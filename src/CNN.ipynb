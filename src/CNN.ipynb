{
 "cells": [
  {
   "cell_type": "markdown",
   "metadata": {},
   "source": [
    "# **Imports**\n"
   ]
  },
  {
   "cell_type": "code",
   "execution_count": 1,
   "metadata": {},
   "outputs": [],
   "source": [
    "# Custom libraries\n",
    "from tools.DataLoader import DataLoader\n",
    "from tools.EDA import EDA\n",
    "from tools.CNNPreprocessor import CNNPreprocessor\n",
    "from tools.CNNTrainer import CNNTrainer\n",
    "from tools.CNNEvaluator import CNNEvaluator\n",
    "\n",
    "\n",
    "# Custom PyTorch models\n",
    "from models.PyTorchCNNClassifier import PyTorchCNNClassifier"
   ]
  },
  {
   "cell_type": "code",
   "execution_count": 2,
   "metadata": {},
   "outputs": [
    {
     "name": "stdout",
     "output_type": "stream",
     "text": [
      "True\n",
      "11.8\n"
     ]
    }
   ],
   "source": [
    "import torch\n",
    "\n",
    "print(torch.cuda.is_available())\n",
    "print(torch.version.cuda)"
   ]
  },
  {
   "cell_type": "markdown",
   "metadata": {},
   "source": [
    "# **Data Load**\n"
   ]
  },
  {
   "cell_type": "code",
   "execution_count": 3,
   "metadata": {},
   "outputs": [],
   "source": [
    "# Step 1: Load Data using DataLoader\n",
    "train_loader = DataLoader(dataset_type=\"train\", path=\"./db/seg_train\")\n",
    "train_dataset = train_loader.load_data()\n",
    "\n",
    "# Initialize the data loader for a test dataset\n",
    "test_loader = DataLoader(dataset_type=\"test\", path=\"./db/seg_test\")\n",
    "test_dataset = test_loader.load_data()\n",
    "\n",
    "# Initialize the data loader for a val dataset\n",
    "val_loader = DataLoader(dataset_type=\"val\", path=\"./db/seg_pred\")\n",
    "val_dataset = val_loader.load_unlabeled_data()"
   ]
  },
  {
   "cell_type": "code",
   "execution_count": 4,
   "metadata": {},
   "outputs": [
    {
     "name": "stdout",
     "output_type": "stream",
     "text": [
      "Train dataset type: <class 'torchvision.datasets.folder.ImageFolder'>\n",
      "Test dataset type: <class 'torchvision.datasets.folder.ImageFolder'>\n",
      "Val dataset type: <class 'list'>\n"
     ]
    }
   ],
   "source": [
    "print(f\"Train dataset type: {type(train_dataset)}\")\n",
    "print(f\"Test dataset type: {type(test_dataset)}\")\n",
    "print(f\"Val dataset type: {type(val_dataset)}\")"
   ]
  },
  {
   "cell_type": "markdown",
   "metadata": {},
   "source": [
    "# **EDA**\n"
   ]
  },
  {
   "cell_type": "code",
   "execution_count": 5,
   "metadata": {},
   "outputs": [],
   "source": [
    "eda = EDA(train_dataset, train_dataset.classes)"
   ]
  },
  {
   "cell_type": "code",
   "execution_count": 6,
   "metadata": {},
   "outputs": [],
   "source": [
    "# eda.show_sample_images(num_images=6)"
   ]
  },
  {
   "cell_type": "code",
   "execution_count": 7,
   "metadata": {},
   "outputs": [],
   "source": [
    "# eda.show_images_from_each_class()"
   ]
  },
  {
   "cell_type": "code",
   "execution_count": 8,
   "metadata": {},
   "outputs": [],
   "source": [
    "# eda.plot_class_distribution()"
   ]
  },
  {
   "cell_type": "code",
   "execution_count": 9,
   "metadata": {},
   "outputs": [],
   "source": [
    "# eda.show_image_shape()"
   ]
  },
  {
   "cell_type": "markdown",
   "metadata": {},
   "source": [
    "# **Preprocessing**\n"
   ]
  },
  {
   "cell_type": "code",
   "execution_count": 10,
   "metadata": {},
   "outputs": [],
   "source": [
    "preprocessor = CNNPreprocessor()"
   ]
  },
  {
   "cell_type": "code",
   "execution_count": 11,
   "metadata": {},
   "outputs": [
    {
     "name": "stdout",
     "output_type": "stream",
     "text": [
      "Available transformations and their parameters:\n",
      "+----------------------+----------------------------------------------------------------------+--------------------------------------------------------------------+\n",
      "| Transformation       | Description                                                          | Parameters                                                         |\n",
      "+======================+======================================================================+====================================================================+\n",
      "| RandomResizedCrop    | Randomly crops a part of the image and resizes it to the given size. | size: (int): Target size of the crop.                              |\n",
      "+----------------------+----------------------------------------------------------------------+--------------------------------------------------------------------+\n",
      "| RandomHorizontalFlip | Randomly flips the image horizontally with a given probability.      | p: (float): Probability of flipping the image. Default: 0.5        |\n",
      "+----------------------+----------------------------------------------------------------------+--------------------------------------------------------------------+\n",
      "| Resize               | Resizes the image to the given size.                                 | size: (int or tuple): Target size of the image.                    |\n",
      "+----------------------+----------------------------------------------------------------------+--------------------------------------------------------------------+\n",
      "| CenterCrop           | Crops the center part of the image to the given size.                | size: (int or tuple): Target size of the crop.                     |\n",
      "+----------------------+----------------------------------------------------------------------+--------------------------------------------------------------------+\n",
      "| Normalize            | Normalizes the image with given mean and standard deviation.         | mean: (sequence): Sequence of means for each channel.              |\n",
      "|                      |                                                                      | std: (sequence): Sequence of standard deviations for each channel. |\n",
      "+----------------------+----------------------------------------------------------------------+--------------------------------------------------------------------+\n",
      "| ToTensor             | Converts a PIL Image or NumPy ndarray to a tensor.                   | None: None                                                         |\n",
      "+----------------------+----------------------------------------------------------------------+--------------------------------------------------------------------+\n"
     ]
    }
   ],
   "source": [
    "preprocessor.help()"
   ]
  },
  {
   "cell_type": "code",
   "execution_count": 12,
   "metadata": {},
   "outputs": [],
   "source": [
    "# Задаем настройки трансформаций для тренировочного, валидационного и тестового наборов данных\n",
    "preprocessor.set_transform_settings(\n",
    "    train_transform_settings={\n",
    "        \"RandomResizedCrop\": {\"enabled\": True, \"size\": 224},\n",
    "        \"RandomHorizontalFlip\": {\"enabled\": True, \"p\": 0.5},\n",
    "        \"ToTensor\": {\"enabled\": True},\n",
    "        \"Normalize\": {\n",
    "            \"enabled\": True,\n",
    "            \"mean\": [0.485, 0.456, 0.406],\n",
    "            \"std\": [0.229, 0.224, 0.225],\n",
    "        },\n",
    "    },\n",
    "    test_transform_settings={\n",
    "        \"Resize\": {\"enabled\": True, \"size\": 256},\n",
    "        \"CenterCrop\": {\"enabled\": True, \"size\": 224},\n",
    "        \"ToTensor\": {\"enabled\": True},\n",
    "        \"Normalize\": {\n",
    "            \"enabled\": True,\n",
    "            \"mean\": [0.485, 0.456, 0.406],\n",
    "            \"std\": [0.229, 0.224, 0.225],\n",
    "        },\n",
    "    },\n",
    "    val_transform_settings={\n",
    "        \"Normalize\": {\n",
    "            \"enabled\": True,\n",
    "            \"mean\": [0.485, 0.456, 0.406],\n",
    "            \"std\": [0.229, 0.224, 0.225],\n",
    "        },\n",
    "    },\n",
    ")"
   ]
  },
  {
   "cell_type": "code",
   "execution_count": 13,
   "metadata": {},
   "outputs": [
    {
     "name": "stdout",
     "output_type": "stream",
     "text": [
      "Image type train: <class 'torch.Tensor'>\n",
      "Image type test: <class 'torch.Tensor'>\n",
      "Image type val: <class 'torch.Tensor'>\n"
     ]
    }
   ],
   "source": [
    "# Проверим первое изображение из набора данных\n",
    "img_train, label_img_train = train_dataset[0]\n",
    "img_test, label_test = test_dataset[0]\n",
    "img_val = val_dataset[0]\n",
    "\n",
    "print(f\"Image type train: {type(img_train)}\")\n",
    "print(f\"Image type test: {type(img_test)}\")\n",
    "print(f\"Image type val: {type(img_val)}\")"
   ]
  },
  {
   "cell_type": "code",
   "execution_count": 14,
   "metadata": {},
   "outputs": [],
   "source": [
    "# Применение трансформаций к тренировочному датасету\n",
    "transformed_train_dataset = preprocessor.transform_dataset(\n",
    "    train_dataset, dataset_type=\"train\"\n",
    ")\n",
    "\n",
    "# Применение трансформаций к тестовому датасету\n",
    "transformed_test_dataset = preprocessor.transform_dataset(\n",
    "    test_dataset, dataset_type=\"test\"\n",
    ")"
   ]
  },
  {
   "cell_type": "code",
   "execution_count": 15,
   "metadata": {},
   "outputs": [
    {
     "name": "stdout",
     "output_type": "stream",
     "text": [
      "Train dataset type: <class 'torchvision.datasets.folder.ImageFolder'>\n",
      "Test dataset type: <class 'torchvision.datasets.folder.ImageFolder'>\n"
     ]
    }
   ],
   "source": [
    "print(f\"Train dataset type: {type(transformed_train_dataset)}\")\n",
    "print(f\"Test dataset type: {type(transformed_test_dataset)}\")"
   ]
  },
  {
   "cell_type": "code",
   "execution_count": 16,
   "metadata": {},
   "outputs": [],
   "source": [
    "# Применение трансформаций к валидационному датасету\n",
    "transformed_val_dataset = preprocessor.transform_unlabeled_data(val_dataset)"
   ]
  },
  {
   "cell_type": "code",
   "execution_count": 17,
   "metadata": {},
   "outputs": [
    {
     "name": "stdout",
     "output_type": "stream",
     "text": [
      "Val dataset type: <class 'list'>\n"
     ]
    }
   ],
   "source": [
    "print(f\"Val dataset type: {type(transformed_val_dataset)}\")"
   ]
  },
  {
   "cell_type": "code",
   "execution_count": 18,
   "metadata": {},
   "outputs": [
    {
     "name": "stdout",
     "output_type": "stream",
     "text": [
      "Image type train: <class 'torch.Tensor'>\n",
      "Image type test: <class 'torch.Tensor'>\n",
      "Image type val: <class 'torch.Tensor'>\n"
     ]
    }
   ],
   "source": [
    "# Проверим первое изображение из набора данных\n",
    "img_train, label_img_train = transformed_train_dataset[0]\n",
    "img_test, label_test = transformed_test_dataset[0]\n",
    "img_val = transformed_val_dataset[0]\n",
    "\n",
    "print(f\"Image type train: {type(img_train)}\")\n",
    "print(f\"Image type test: {type(img_test)}\")\n",
    "print(f\"Image type val: {type(img_val)}\")"
   ]
  },
  {
   "cell_type": "code",
   "execution_count": 19,
   "metadata": {},
   "outputs": [
    {
     "name": "stdout",
     "output_type": "stream",
     "text": [
      "Number of classes: 6\n"
     ]
    }
   ],
   "source": [
    "num_classes = len(train_dataset.classes)\n",
    "print(f\"Number of classes: {num_classes}\")"
   ]
  },
  {
   "cell_type": "code",
   "execution_count": 20,
   "metadata": {},
   "outputs": [],
   "source": [
    "model = PyTorchCNNClassifier(\n",
    "    input_channels=3, num_classes=num_classes, random_state=42, epochs_logger=True\n",
    ")"
   ]
  },
  {
   "cell_type": "code",
   "execution_count": 21,
   "metadata": {},
   "outputs": [],
   "source": [
    "# param_grid = {\n",
    "#     \"conv_layers\": [\n",
    "#         [(32, 3, 1, 1), (64, 3, 1, 1), (128, 3, 1, 1)]\n",
    "#     ],  # out_channels, kernel_size, stride, padding\n",
    "#     \"hidden_sizes\": [[256, 128]],  # Fully connected layers\n",
    "#     \"lr\": [0.001, 0.01],  # Learning rate\n",
    "#     \"batch_size\": [16, 32],  # Batch size\n",
    "#     \"epochs\": [10, 20],  # Number of epochs\n",
    "#     \"dropout_rate\": [0.1, 0.3],  # Dropout rate for fully connected layers\n",
    "#     \"optimizer_type\": [\"sgd\", \"adam\"],  # Optimizer type\n",
    "#     \"activation_fn\": [\"ReLU\", \"Sigmoid\"],  # Activation function choices as strings\n",
    "#     \"pool_fn\": [\"MaxPool2d\", \"AvgPool2d\"],  # Pooling function choices as strings\n",
    "#     \"pool_kernel_size\": [2, 3],  # Pooling kernel size\n",
    "#     \"pool_stride\": [2, 1],  # Pooling stride\n",
    "#     \"pool_padding\": [0, 1],  # Pooling padding\n",
    "# }\n",
    "\n",
    "param_grid = {\n",
    "    \"conv_layers\": [[(32, 3, 1, 1), (64, 3, 1, 1), (128, 3, 1, 1)]],\n",
    "    \"hidden_sizes\": [[256, 128]],\n",
    "    \"lr\": [0.001],\n",
    "    \"batch_size\": [16],\n",
    "    \"epochs\": [10],\n",
    "    \"dropout_rate\": [0.1],\n",
    "    \"optimizer_type\": [\"adam\"],\n",
    "    \"activation_fn\": [\"ReLU\"],\n",
    "    \"pool_fn\": [\"MaxPool2d\"],\n",
    "    \"pool_kernel_size\": [2],\n",
    "    \"pool_stride\": [2],\n",
    "    \"pool_padding\": [0],\n",
    "}"
   ]
  },
  {
   "cell_type": "code",
   "execution_count": 22,
   "metadata": {},
   "outputs": [],
   "source": [
    "models = {\"cnn_model\": model}\n",
    "param_grids = {\"cnn_model\": param_grid}"
   ]
  },
  {
   "cell_type": "markdown",
   "metadata": {},
   "source": [
    "# **Model Training**\n"
   ]
  },
  {
   "cell_type": "code",
   "execution_count": 23,
   "metadata": {},
   "outputs": [],
   "source": [
    "model_trainer = CNNTrainer(device=\"cuda\")"
   ]
  },
  {
   "cell_type": "code",
   "execution_count": 24,
   "metadata": {},
   "outputs": [
    {
     "name": "stdout",
     "output_type": "stream",
     "text": [
      "=== CNNTrainer Help ===\n",
      "This trainer is designed to support classification tasks using PyTorch CNN models.\n",
      "\n",
      "Usage:\n",
      "1. Initialize the CNNTrainer with the device ('cpu' or 'cuda').\n",
      "   Example:\n",
      "       trainer = CNNTrainer(device='cuda')\n",
      "\n",
      "2. Create model objects and define the parameter grid for hyperparameter tuning.\n",
      "   Example:\n",
      "       param_grid = { \"lr\": [0.001, 0.01], \"epochs\": [10, 20] }\n",
      "\n",
      "3. Call the `train` method with the training and test datasets, models, and parameter grid.\n",
      "   Example:\n",
      "       trainer.train(train_dataset, test_dataset, models={'cnn_model': model}, param_grids={'cnn_model': param_grid})\n"
     ]
    }
   ],
   "source": [
    "model_trainer.help()"
   ]
  },
  {
   "cell_type": "code",
   "execution_count": 25,
   "metadata": {},
   "outputs": [
    {
     "name": "stdout",
     "output_type": "stream",
     "text": [
      "Training on device: cuda\n"
     ]
    },
    {
     "name": "stderr",
     "output_type": "stream",
     "text": [
      "Total Training Progress:   0%|          | 0/10 [00:00<?, ?it/s]"
     ]
    },
    {
     "name": "stdout",
     "output_type": "stream",
     "text": [
      "\n",
      "Training cnn_model with parameters: {'activation_fn': 'ReLU', 'batch_size': 16, 'conv_layers': [(32, 3, 1, 1), (64, 3, 1, 1), (128, 3, 1, 1)], 'dropout_rate': 0.1, 'epochs': 10, 'hidden_sizes': [256, 128], 'lr': 0.001, 'optimizer_type': 'adam', 'pool_fn': 'MaxPool2d', 'pool_kernel_size': 2, 'pool_padding': 0, 'pool_stride': 2}\n",
      "Training with parameters: {'activation_fn': 'ReLU', 'batch_size': 16, 'conv_layers': [(32, 3, 1, 1), (64, 3, 1, 1), (128, 3, 1, 1)], 'dropout_rate': 0.1, 'epochs': 10, 'hidden_sizes': [256, 128], 'lr': 0.001, 'optimizer_type': 'adam', 'pool_fn': 'MaxPool2d', 'pool_kernel_size': 2, 'pool_padding': 0, 'pool_stride': 2}\n",
      "\n",
      "Epoch 1/10\n"
     ]
    },
    {
     "name": "stderr",
     "output_type": "stream",
     "text": [
      "Total Training Progress:  10%|█         | 1/10 [01:09<10:24, 69.39s/it]"
     ]
    },
    {
     "name": "stdout",
     "output_type": "stream",
     "text": [
      "Training Loss: 1.147466448859093, Training Accuracy: 0.5437508906940288\n",
      "Validation Loss: 0.9797143727303186, Validation Accuracy: 0.653\n",
      "\n",
      "Epoch 2/10\n"
     ]
    },
    {
     "name": "stderr",
     "output_type": "stream",
     "text": [
      "Total Training Progress:  20%|██        | 2/10 [02:26<09:52, 74.02s/it]"
     ]
    },
    {
     "name": "stdout",
     "output_type": "stream",
     "text": [
      "Training Loss: 0.8622451437157759, Training Accuracy: 0.6773549950121135\n",
      "Validation Loss: 0.6241346632546567, Validation Accuracy: 0.7896666666666666\n",
      "\n",
      "Epoch 3/10\n"
     ]
    },
    {
     "name": "stderr",
     "output_type": "stream",
     "text": [
      "Total Training Progress:  30%|███       | 3/10 [03:44<08:48, 75.56s/it]"
     ]
    },
    {
     "name": "stdout",
     "output_type": "stream",
     "text": [
      "Training Loss: 0.7754592594769115, Training Accuracy: 0.712056434373664\n",
      "Validation Loss: 0.5483826982554673, Validation Accuracy: 0.8003333333333333\n",
      "\n",
      "Epoch 4/10\n"
     ]
    },
    {
     "name": "stderr",
     "output_type": "stream",
     "text": [
      "Total Training Progress:  40%|████      | 4/10 [05:01<07:38, 76.44s/it]"
     ]
    },
    {
     "name": "stdout",
     "output_type": "stream",
     "text": [
      "Training Loss: 0.7114966640881091, Training Accuracy: 0.7350719680775261\n",
      "Validation Loss: 0.48331056284084123, Validation Accuracy: 0.8283333333333334\n",
      "\n",
      "Epoch 5/10\n"
     ]
    },
    {
     "name": "stderr",
     "output_type": "stream",
     "text": [
      "Total Training Progress:  50%|█████     | 5/10 [06:19<06:23, 76.77s/it]"
     ]
    },
    {
     "name": "stdout",
     "output_type": "stream",
     "text": [
      "Training Loss: 0.6721555900702716, Training Accuracy: 0.7486105173150919\n",
      "Validation Loss: 0.4950266396502984, Validation Accuracy: 0.816\n",
      "\n",
      "Epoch 6/10\n"
     ]
    },
    {
     "name": "stderr",
     "output_type": "stream",
     "text": [
      "Total Training Progress:  60%|██████    | 6/10 [07:36<05:07, 76.85s/it]"
     ]
    },
    {
     "name": "stdout",
     "output_type": "stream",
     "text": [
      "Training Loss: 0.6589869297786292, Training Accuracy: 0.7543822146216331\n",
      "Validation Loss: 0.4561264469744043, Validation Accuracy: 0.8363333333333334\n",
      "\n",
      "Epoch 7/10\n"
     ]
    },
    {
     "name": "stderr",
     "output_type": "stream",
     "text": [
      "Total Training Progress:  70%|███████   | 7/10 [08:53<03:50, 76.94s/it]"
     ]
    },
    {
     "name": "stdout",
     "output_type": "stream",
     "text": [
      "Training Loss: 0.6394994271609398, Training Accuracy: 0.7670656975915634\n",
      "Validation Loss: 0.5044219211639311, Validation Accuracy: 0.8166666666666667\n",
      "\n",
      "Epoch 8/10\n"
     ]
    },
    {
     "name": "stderr",
     "output_type": "stream",
     "text": [
      "Total Training Progress:  80%|████████  | 8/10 [10:10<02:34, 77.15s/it]"
     ]
    },
    {
     "name": "stdout",
     "output_type": "stream",
     "text": [
      "Training Loss: 0.6293523862686407, Training Accuracy: 0.768063274903805\n",
      "Validation Loss: 0.4750498464393573, Validation Accuracy: 0.8326666666666667\n",
      "\n",
      "Epoch 9/10\n"
     ]
    },
    {
     "name": "stderr",
     "output_type": "stream",
     "text": [
      "Total Training Progress:  90%|█████████ | 9/10 [11:28<01:17, 77.15s/it]"
     ]
    },
    {
     "name": "stdout",
     "output_type": "stream",
     "text": [
      "Training Loss: 0.6031851642054414, Training Accuracy: 0.7771127262362834\n",
      "Validation Loss: 0.48169789453126255, Validation Accuracy: 0.8326666666666667\n",
      "\n",
      "Epoch 10/10\n"
     ]
    },
    {
     "name": "stderr",
     "output_type": "stream",
     "text": [
      "Total Training Progress: 100%|██████████| 10/10 [12:45<00:00, 77.21s/it]"
     ]
    },
    {
     "name": "stdout",
     "output_type": "stream",
     "text": [
      "Training Loss: 0.5980154161674558, Training Accuracy: 0.7811030354852501\n"
     ]
    },
    {
     "name": "stderr",
     "output_type": "stream",
     "text": [
      "Total Training Progress: 100%|██████████| 10/10 [12:53<00:00, 77.38s/it]"
     ]
    },
    {
     "name": "stdout",
     "output_type": "stream",
     "text": [
      "Validation Loss: 0.427740337459638, Validation Accuracy: 0.8523333333333334\n",
      "Final Training Accuracy: 0.7811030354852501\n",
      "Validation Accuracy for cnn_model: 0.7811030354852501\n",
      "\n",
      "Best Model: cnn_model with score: 0.7811030354852501\n"
     ]
    },
    {
     "name": "stderr",
     "output_type": "stream",
     "text": [
      "\n"
     ]
    }
   ],
   "source": [
    "model_trainer.train(\n",
    "    train_dataset=transformed_train_dataset,\n",
    "    test_dataset=transformed_test_dataset,\n",
    "    models=models,\n",
    "    param_grids=param_grids,\n",
    "    scoring=\"accuracy\",\n",
    "    verbose=1,\n",
    "    use_progress_bar=True,\n",
    ")"
   ]
  },
  {
   "cell_type": "code",
   "execution_count": 26,
   "metadata": {},
   "outputs": [],
   "source": [
    "best_models = model_trainer.best_estimators\n",
    "best_params = model_trainer.best_params\n",
    "best_scores = model_trainer.best_scores\n",
    "best_model_name = model_trainer.best_model_name"
   ]
  },
  {
   "cell_type": "code",
   "execution_count": 27,
   "metadata": {},
   "outputs": [
    {
     "name": "stdout",
     "output_type": "stream",
     "text": [
      "{'cnn_model': <models.PyTorchCNNClassifier.PyTorchCNNClassifier object at 0x0000027D4AC8A2D0>}\n",
      "{'cnn_model': {'activation_fn': 'ReLU', 'batch_size': 16, 'conv_layers': [(32, 3, 1, 1), (64, 3, 1, 1), (128, 3, 1, 1)], 'dropout_rate': 0.1, 'epochs': 10, 'hidden_sizes': [256, 128], 'lr': 0.001, 'optimizer_type': 'adam', 'pool_fn': 'MaxPool2d', 'pool_kernel_size': 2, 'pool_padding': 0, 'pool_stride': 2}}\n",
      "{'cnn_model': 0.7811030354852501}\n",
      "cnn_model\n"
     ]
    }
   ],
   "source": [
    "print(best_models)\n",
    "print(best_params)\n",
    "print(best_scores)\n",
    "print(best_model_name)"
   ]
  },
  {
   "cell_type": "markdown",
   "metadata": {},
   "source": [
    "# **Model Evaluator**\n"
   ]
  },
  {
   "cell_type": "code",
   "execution_count": 28,
   "metadata": {},
   "outputs": [],
   "source": [
    "evaluator = CNNEvaluator()"
   ]
  },
  {
   "cell_type": "code",
   "execution_count": 29,
   "metadata": {},
   "outputs": [
    {
     "name": "stdout",
     "output_type": "stream",
     "text": [
      "Visualizing the architecture of the model: cnn_model\n",
      "=================================================================\n",
      "Layer (type:depth-idx)                   Param #\n",
      "=================================================================\n",
      "├─Conv2d: 1-1                            896\n",
      "├─ReLU: 1-2                              --\n",
      "├─MaxPool2d: 1-3                         --\n",
      "├─Conv2d: 1-4                            18,496\n",
      "├─ReLU: 1-5                              --\n",
      "├─MaxPool2d: 1-6                         --\n",
      "├─Conv2d: 1-7                            73,856\n",
      "├─ReLU: 1-8                              --\n",
      "├─MaxPool2d: 1-9                         --\n",
      "├─Flatten: 1-10                          --\n",
      "├─Linear: 1-11                           25,690,368\n",
      "├─ReLU: 1-12                             --\n",
      "├─Dropout: 1-13                          --\n",
      "├─Linear: 1-14                           32,896\n",
      "├─ReLU: 1-15                             --\n",
      "├─Dropout: 1-16                          --\n",
      "├─Linear: 1-17                           774\n",
      "=================================================================\n",
      "Total params: 25,817,286\n",
      "Trainable params: 25,817,286\n",
      "Non-trainable params: 0\n",
      "=================================================================\n"
     ]
    }
   ],
   "source": [
    "evaluator.visualize_pipeline(model_name=best_model_name, best_models=best_models)"
   ]
  },
  {
   "cell_type": "code",
   "execution_count": 35,
   "metadata": {},
   "outputs": [],
   "source": [
    "# evaluator.display_results(\n",
    "#     test_dataset=transformed_test_dataset,\n",
    "#     best_models=best_models,\n",
    "#     best_params=best_params,\n",
    "#     best_scores=best_scores,\n",
    "#     best_model_name=best_model_name,\n",
    "#     help_text=True,\n",
    "# )"
   ]
  },
  {
   "cell_type": "code",
   "execution_count": 31,
   "metadata": {},
   "outputs": [
    {
     "data": {
      "image/png": "[encoded data removed]",
      "text/plain": [
       "<Figure size 640x480 with 1 Axes>"
      ]
     },
     "metadata": {},
     "output_type": "display_data"
    }
   ],
   "source": [
    "evaluator.plot_loss_history(best_models, best_model_name)"
   ]
  },
  {
   "cell_type": "code",
   "execution_count": 34,
   "metadata": {},
   "outputs": [
    {
     "ename": "RuntimeError",
     "evalue": "stack expects each tensor to be equal size, but got [3, 150, 150] at entry 0 and [3, 133, 150] at entry 1020",
     "output_type": "error",
     "traceback": [
      "\u001b[1;31m---------------------------------------------------------------------------\u001b[0m",
      "\u001b[1;31mRuntimeError\u001b[0m                              Traceback (most recent call last)",
      "Cell \u001b[1;32mIn[34], line 1\u001b[0m\n\u001b[1;32m----> 1\u001b[0m \u001b[43mevaluator\u001b[49m\u001b[38;5;241;43m.\u001b[39;49m\u001b[43mpredict_on_val\u001b[49m\u001b[43m(\u001b[49m\n\u001b[0;32m      2\u001b[0m \u001b[43m    \u001b[49m\u001b[43mval_dataset\u001b[49m\u001b[38;5;241;43m=\u001b[39;49m\u001b[43mtransformed_val_dataset\u001b[49m\u001b[43m,\u001b[49m\n\u001b[0;32m      3\u001b[0m \u001b[43m    \u001b[49m\u001b[43mbest_models\u001b[49m\u001b[38;5;241;43m=\u001b[39;49m\u001b[43mbest_models\u001b[49m\u001b[43m,\u001b[49m\n\u001b[0;32m      4\u001b[0m \u001b[43m    \u001b[49m\u001b[43mbest_model_name\u001b[49m\u001b[38;5;241;43m=\u001b[39;49m\u001b[43mbest_model_name\u001b[49m\u001b[43m,\u001b[49m\n\u001b[0;32m      5\u001b[0m \u001b[43m)\u001b[49m\n",
      "File \u001b[1;32mc:\\Users\\Acer\\Documents\\GitHub\\goit_cv_hw4\\src\\tools\\CNNEvaluator.py:138\u001b[0m, in \u001b[0;36mCNNEvaluator.predict_on_val\u001b[1;34m(self, val_dataset, best_models, best_model_name)\u001b[0m\n\u001b[0;32m    135\u001b[0m all_preds \u001b[38;5;241m=\u001b[39m []\n\u001b[0;32m    137\u001b[0m \u001b[38;5;28;01mwith\u001b[39;00m torch\u001b[38;5;241m.\u001b[39mno_grad():\n\u001b[1;32m--> 138\u001b[0m \u001b[43m    \u001b[49m\u001b[38;5;28;43;01mfor\u001b[39;49;00m\u001b[43m \u001b[49m\u001b[43minputs\u001b[49m\u001b[43m \u001b[49m\u001b[38;5;129;43;01min\u001b[39;49;00m\u001b[43m \u001b[49m\u001b[43mval_loader\u001b[49m\u001b[43m:\u001b[49m\n\u001b[0;32m    139\u001b[0m \u001b[43m        \u001b[49m\u001b[43minputs\u001b[49m\u001b[43m \u001b[49m\u001b[38;5;241;43m=\u001b[39;49m\u001b[43m \u001b[49m\u001b[43minputs\u001b[49m\u001b[38;5;241;43m.\u001b[39;49m\u001b[43mto\u001b[49m\u001b[43m(\u001b[49m\u001b[43mdevice\u001b[49m\u001b[43m)\u001b[49m\n\u001b[0;32m    140\u001b[0m \u001b[43m        \u001b[49m\u001b[43moutputs\u001b[49m\u001b[43m \u001b[49m\u001b[38;5;241;43m=\u001b[39;49m\u001b[43m \u001b[49m\u001b[43mbest_model\u001b[49m\u001b[38;5;241;43m.\u001b[39;49m\u001b[43mmodel\u001b[49m\u001b[43m(\u001b[49m\u001b[43minputs\u001b[49m\u001b[43m)\u001b[49m\n",
      "File \u001b[1;32mc:\\Users\\Acer\\AppData\\Local\\Programs\\Python\\Python312\\Lib\\site-packages\\torch\\utils\\data\\dataloader.py:630\u001b[0m, in \u001b[0;36m_BaseDataLoaderIter.__next__\u001b[1;34m(self)\u001b[0m\n\u001b[0;32m    627\u001b[0m \u001b[38;5;28;01mif\u001b[39;00m \u001b[38;5;28mself\u001b[39m\u001b[38;5;241m.\u001b[39m_sampler_iter \u001b[38;5;129;01mis\u001b[39;00m \u001b[38;5;28;01mNone\u001b[39;00m:\n\u001b[0;32m    628\u001b[0m     \u001b[38;5;66;03m# TODO(https://github.com/pytorch/pytorch/issues/76750)\u001b[39;00m\n\u001b[0;32m    629\u001b[0m     \u001b[38;5;28mself\u001b[39m\u001b[38;5;241m.\u001b[39m_reset()  \u001b[38;5;66;03m# type: ignore[call-arg]\u001b[39;00m\n\u001b[1;32m--> 630\u001b[0m data \u001b[38;5;241m=\u001b[39m \u001b[38;5;28;43mself\u001b[39;49m\u001b[38;5;241;43m.\u001b[39;49m\u001b[43m_next_data\u001b[49m\u001b[43m(\u001b[49m\u001b[43m)\u001b[49m\n\u001b[0;32m    631\u001b[0m \u001b[38;5;28mself\u001b[39m\u001b[38;5;241m.\u001b[39m_num_yielded \u001b[38;5;241m+\u001b[39m\u001b[38;5;241m=\u001b[39m \u001b[38;5;241m1\u001b[39m\n\u001b[0;32m    632\u001b[0m \u001b[38;5;28;01mif\u001b[39;00m \u001b[38;5;28mself\u001b[39m\u001b[38;5;241m.\u001b[39m_dataset_kind \u001b[38;5;241m==\u001b[39m _DatasetKind\u001b[38;5;241m.\u001b[39mIterable \u001b[38;5;129;01mand\u001b[39;00m \\\n\u001b[0;32m    633\u001b[0m         \u001b[38;5;28mself\u001b[39m\u001b[38;5;241m.\u001b[39m_IterableDataset_len_called \u001b[38;5;129;01mis\u001b[39;00m \u001b[38;5;129;01mnot\u001b[39;00m \u001b[38;5;28;01mNone\u001b[39;00m \u001b[38;5;129;01mand\u001b[39;00m \\\n\u001b[0;32m    634\u001b[0m         \u001b[38;5;28mself\u001b[39m\u001b[38;5;241m.\u001b[39m_num_yielded \u001b[38;5;241m>\u001b[39m \u001b[38;5;28mself\u001b[39m\u001b[38;5;241m.\u001b[39m_IterableDataset_len_called:\n",
      "File \u001b[1;32mc:\\Users\\Acer\\AppData\\Local\\Programs\\Python\\Python312\\Lib\\site-packages\\torch\\utils\\data\\dataloader.py:673\u001b[0m, in \u001b[0;36m_SingleProcessDataLoaderIter._next_data\u001b[1;34m(self)\u001b[0m\n\u001b[0;32m    671\u001b[0m \u001b[38;5;28;01mdef\u001b[39;00m \u001b[38;5;21m_next_data\u001b[39m(\u001b[38;5;28mself\u001b[39m):\n\u001b[0;32m    672\u001b[0m     index \u001b[38;5;241m=\u001b[39m \u001b[38;5;28mself\u001b[39m\u001b[38;5;241m.\u001b[39m_next_index()  \u001b[38;5;66;03m# may raise StopIteration\u001b[39;00m\n\u001b[1;32m--> 673\u001b[0m     data \u001b[38;5;241m=\u001b[39m \u001b[38;5;28;43mself\u001b[39;49m\u001b[38;5;241;43m.\u001b[39;49m\u001b[43m_dataset_fetcher\u001b[49m\u001b[38;5;241;43m.\u001b[39;49m\u001b[43mfetch\u001b[49m\u001b[43m(\u001b[49m\u001b[43mindex\u001b[49m\u001b[43m)\u001b[49m  \u001b[38;5;66;03m# may raise StopIteration\u001b[39;00m\n\u001b[0;32m    674\u001b[0m     \u001b[38;5;28;01mif\u001b[39;00m \u001b[38;5;28mself\u001b[39m\u001b[38;5;241m.\u001b[39m_pin_memory:\n\u001b[0;32m    675\u001b[0m         data \u001b[38;5;241m=\u001b[39m _utils\u001b[38;5;241m.\u001b[39mpin_memory\u001b[38;5;241m.\u001b[39mpin_memory(data, \u001b[38;5;28mself\u001b[39m\u001b[38;5;241m.\u001b[39m_pin_memory_device)\n",
      "File \u001b[1;32mc:\\Users\\Acer\\AppData\\Local\\Programs\\Python\\Python312\\Lib\\site-packages\\torch\\utils\\data\\_utils\\fetch.py:55\u001b[0m, in \u001b[0;36m_MapDatasetFetcher.fetch\u001b[1;34m(self, possibly_batched_index)\u001b[0m\n\u001b[0;32m     53\u001b[0m \u001b[38;5;28;01melse\u001b[39;00m:\n\u001b[0;32m     54\u001b[0m     data \u001b[38;5;241m=\u001b[39m \u001b[38;5;28mself\u001b[39m\u001b[38;5;241m.\u001b[39mdataset[possibly_batched_index]\n\u001b[1;32m---> 55\u001b[0m \u001b[38;5;28;01mreturn\u001b[39;00m \u001b[38;5;28;43mself\u001b[39;49m\u001b[38;5;241;43m.\u001b[39;49m\u001b[43mcollate_fn\u001b[49m\u001b[43m(\u001b[49m\u001b[43mdata\u001b[49m\u001b[43m)\u001b[49m\n",
      "File \u001b[1;32mc:\\Users\\Acer\\AppData\\Local\\Programs\\Python\\Python312\\Lib\\site-packages\\torch\\utils\\data\\_utils\\collate.py:317\u001b[0m, in \u001b[0;36mdefault_collate\u001b[1;34m(batch)\u001b[0m\n\u001b[0;32m    256\u001b[0m \u001b[38;5;28;01mdef\u001b[39;00m \u001b[38;5;21mdefault_collate\u001b[39m(batch):\n\u001b[0;32m    257\u001b[0m \u001b[38;5;250m    \u001b[39m\u001b[38;5;124mr\u001b[39m\u001b[38;5;124;03m\"\"\"\u001b[39;00m\n\u001b[0;32m    258\u001b[0m \u001b[38;5;124;03m    Take in a batch of data and put the elements within the batch into a tensor with an additional outer dimension - batch size.\u001b[39;00m\n\u001b[0;32m    259\u001b[0m \n\u001b[1;32m   (...)\u001b[0m\n\u001b[0;32m    315\u001b[0m \u001b[38;5;124;03m        >>> default_collate(batch)  # Handle `CustomType` automatically\u001b[39;00m\n\u001b[0;32m    316\u001b[0m \u001b[38;5;124;03m    \"\"\"\u001b[39;00m\n\u001b[1;32m--> 317\u001b[0m     \u001b[38;5;28;01mreturn\u001b[39;00m \u001b[43mcollate\u001b[49m\u001b[43m(\u001b[49m\u001b[43mbatch\u001b[49m\u001b[43m,\u001b[49m\u001b[43m \u001b[49m\u001b[43mcollate_fn_map\u001b[49m\u001b[38;5;241;43m=\u001b[39;49m\u001b[43mdefault_collate_fn_map\u001b[49m\u001b[43m)\u001b[49m\n",
      "File \u001b[1;32mc:\\Users\\Acer\\AppData\\Local\\Programs\\Python\\Python312\\Lib\\site-packages\\torch\\utils\\data\\_utils\\collate.py:142\u001b[0m, in \u001b[0;36mcollate\u001b[1;34m(batch, collate_fn_map)\u001b[0m\n\u001b[0;32m    140\u001b[0m \u001b[38;5;28;01mif\u001b[39;00m collate_fn_map \u001b[38;5;129;01mis\u001b[39;00m \u001b[38;5;129;01mnot\u001b[39;00m \u001b[38;5;28;01mNone\u001b[39;00m:\n\u001b[0;32m    141\u001b[0m     \u001b[38;5;28;01mif\u001b[39;00m elem_type \u001b[38;5;129;01min\u001b[39;00m collate_fn_map:\n\u001b[1;32m--> 142\u001b[0m         \u001b[38;5;28;01mreturn\u001b[39;00m \u001b[43mcollate_fn_map\u001b[49m\u001b[43m[\u001b[49m\u001b[43melem_type\u001b[49m\u001b[43m]\u001b[49m\u001b[43m(\u001b[49m\u001b[43mbatch\u001b[49m\u001b[43m,\u001b[49m\u001b[43m \u001b[49m\u001b[43mcollate_fn_map\u001b[49m\u001b[38;5;241;43m=\u001b[39;49m\u001b[43mcollate_fn_map\u001b[49m\u001b[43m)\u001b[49m\n\u001b[0;32m    144\u001b[0m     \u001b[38;5;28;01mfor\u001b[39;00m collate_type \u001b[38;5;129;01min\u001b[39;00m collate_fn_map:\n\u001b[0;32m    145\u001b[0m         \u001b[38;5;28;01mif\u001b[39;00m \u001b[38;5;28misinstance\u001b[39m(elem, collate_type):\n",
      "File \u001b[1;32mc:\\Users\\Acer\\AppData\\Local\\Programs\\Python\\Python312\\Lib\\site-packages\\torch\\utils\\data\\_utils\\collate.py:214\u001b[0m, in \u001b[0;36mcollate_tensor_fn\u001b[1;34m(batch, collate_fn_map)\u001b[0m\n\u001b[0;32m    212\u001b[0m     storage \u001b[38;5;241m=\u001b[39m elem\u001b[38;5;241m.\u001b[39m_typed_storage()\u001b[38;5;241m.\u001b[39m_new_shared(numel, device\u001b[38;5;241m=\u001b[39melem\u001b[38;5;241m.\u001b[39mdevice)\n\u001b[0;32m    213\u001b[0m     out \u001b[38;5;241m=\u001b[39m elem\u001b[38;5;241m.\u001b[39mnew(storage)\u001b[38;5;241m.\u001b[39mresize_(\u001b[38;5;28mlen\u001b[39m(batch), \u001b[38;5;241m*\u001b[39m\u001b[38;5;28mlist\u001b[39m(elem\u001b[38;5;241m.\u001b[39msize()))\n\u001b[1;32m--> 214\u001b[0m \u001b[38;5;28;01mreturn\u001b[39;00m \u001b[43mtorch\u001b[49m\u001b[38;5;241;43m.\u001b[39;49m\u001b[43mstack\u001b[49m\u001b[43m(\u001b[49m\u001b[43mbatch\u001b[49m\u001b[43m,\u001b[49m\u001b[43m \u001b[49m\u001b[38;5;241;43m0\u001b[39;49m\u001b[43m,\u001b[49m\u001b[43m \u001b[49m\u001b[43mout\u001b[49m\u001b[38;5;241;43m=\u001b[39;49m\u001b[43mout\u001b[49m\u001b[43m)\u001b[49m\n",
      "\u001b[1;31mRuntimeError\u001b[0m: stack expects each tensor to be equal size, but got [3, 150, 150] at entry 0 and [3, 133, 150] at entry 1020"
     ]
    }
   ],
   "source": [
    "# evaluator.predict_on_val(\n",
    "#     val_dataset=transformed_val_dataset,\n",
    "#     best_models=best_models,\n",
    "#     best_model_name=best_model_name,\n",
    "# )"
   ]
  },
  {
   "cell_type": "markdown",
   "metadata": {},
   "source": [
    "# **Key Conclusions and Recommendations for Improvement**\n"
   ]
  },
  {
   "cell_type": "markdown",
   "metadata": {},
   "source": [
    "# **Key Conclusions:**\n",
    "\n",
    "**High Model Accuracy:** The model achieved R² = 0.8808, meaning it explains 88.08% of the variance in the target variable, indicating strong predictive performance.\n",
    "\n",
    "**Low Error:** Metrics MAE = 4.36, MAPE = 14.21%, and MSE = 30.73 (the primary metric used during training) indicate a relatively low average error, with predictions deviating by about 14% from actual values.\n",
    "\n",
    "**Optimal Hyperparameters:** I tested architectures with both 3 layers [256, 128, 64] and 5 layers [256, 128, 64, 32, 16], with the 3-layer configuration performing better. Various hyperparameters were explored, including batch sizes (16, 32), learning rates (0.01, 0.001), dropout rates (0.1, 0.2, 0.3), and both the Adam and SGD optimizers, with SGD yielding the best results.\n",
    "\n",
    "# **Model Architecture:**\n",
    "\n",
    "**Hidden Layers:** The architecture consists of fully connected layers. The best-performing model used 3 hidden layers with 256, 128, and 64 neurons, alternating between ReLU and Tanh activations.\n",
    "\n",
    "**Regularization:** Dropout layers with varying rates (0.1, 0.2, 0.3) were included after each hidden layer to prevent overfitting, with a 0.1 dropout rate proving optimal. This acts as a form of early stopping by reducing overfitting as the model trains.\n",
    "Optimizer and Loss Function: The SGD optimizer combined with the mean squared error (MSE) loss function was used for training.\n",
    "\n",
    "# **Recommendations:**\n",
    "\n",
    "**Explore Deeper Architectures:** Although the 3-layer model performed better, further tuning of deeper architectures (5+ layers) with additional regularization techniques could be beneficial.\n",
    "\n",
    "**Refine Dropout and Learning Rate:** Fine-tuning the dropout rates and using learning rate schedules could improve convergence and prevent overfitting. Dropout, already implemented in the model, acts as an early stopping mechanism by preventing overfitting during training.\n",
    "Early Stopping and Optimization: Besides dropout, consider experimenting with more advanced early stopping strategies, combined with fine-tuning the learning rates for further optimization.\n"
   ]
  }
 ],
 "metadata": {
  "kernelspec": {
   "display_name": "Python 3",
   "language": "python",
   "name": "python3"
  },
  "language_info": {
   "codemirror_mode": {
    "name": "ipython",
    "version": 3
   },
   "file_extension": ".py",
   "mimetype": "text/x-python",
   "name": "python",
   "nbconvert_exporter": "python",
   "pygments_lexer": "ipython3",
   "version": "3.12.3"
  }
 },
 "nbformat": 4,
 "nbformat_minor": 2
}
