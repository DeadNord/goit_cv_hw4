{
 "cells": [
  {
   "cell_type": "markdown",
   "metadata": {},
   "source": [
    "# **Imports**\n"
   ]
  },
  {
   "cell_type": "code",
   "execution_count": 1,
   "metadata": {},
   "outputs": [],
   "source": [
    "# Custom libraries\n",
    "from tools.DataLoader import DataLoader\n",
    "from tools.EDA import EDA\n",
    "from tools.CNNPreprocessor import CNNPreprocessor\n",
    "from tools.CNNTrainer import CNNTrainer\n",
    "from tools.CNNEvaluator import CNNEvaluator\n",
    "\n",
    "\n",
    "# Custom PyTorch models\n",
    "from models.PyTorchCNNClassifier import PyTorchCNNClassifier"
   ]
  },
  {
   "cell_type": "code",
   "execution_count": 2,
   "metadata": {},
   "outputs": [
    {
     "name": "stdout",
     "output_type": "stream",
     "text": [
      "False\n",
      "12.1\n"
     ]
    }
   ],
   "source": [
    "import torch\n",
    "\n",
    "print(torch.cuda.is_available())\n",
    "print(torch.version.cuda)"
   ]
  },
  {
   "cell_type": "markdown",
   "metadata": {},
   "source": [
    "# **Data Load**\n"
   ]
  },
  {
   "cell_type": "code",
   "execution_count": 3,
   "metadata": {},
   "outputs": [],
   "source": [
    "# Step 1: Load Data using DataLoader\n",
    "train_loader = DataLoader(dataset_type=\"train\", path=\"./db/seg_train\")\n",
    "train_dataset = train_loader.load_data()\n",
    "\n",
    "# Initialize the data loader for a test dataset\n",
    "test_loader = DataLoader(dataset_type=\"test\", path=\"./db/seg_test\")\n",
    "test_dataset = test_loader.load_data()\n",
    "\n",
    "# Initialize the data loader for a val dataset\n",
    "val_loader = DataLoader(dataset_type=\"val\", path=\"./db/seg_pred\")\n",
    "val_dataset = val_loader.load_unlabeled_data()"
   ]
  },
  {
   "cell_type": "code",
   "execution_count": 4,
   "metadata": {},
   "outputs": [
    {
     "name": "stdout",
     "output_type": "stream",
     "text": [
      "Train dataset type: <class 'torchvision.datasets.folder.ImageFolder'>\n",
      "Test dataset type: <class 'torchvision.datasets.folder.ImageFolder'>\n",
      "Val dataset type: <class 'list'>\n"
     ]
    }
   ],
   "source": [
    "print(f\"Train dataset type: {type(train_dataset)}\")\n",
    "print(f\"Test dataset type: {type(test_dataset)}\")\n",
    "print(f\"Val dataset type: {type(val_dataset)}\")"
   ]
  },
  {
   "cell_type": "markdown",
   "metadata": {},
   "source": [
    "# **EDA**\n"
   ]
  },
  {
   "cell_type": "code",
   "execution_count": 5,
   "metadata": {},
   "outputs": [],
   "source": [
    "eda = EDA(train_dataset, train_dataset.classes)"
   ]
  },
  {
   "cell_type": "code",
   "execution_count": 6,
   "metadata": {},
   "outputs": [],
   "source": [
    "# eda.show_sample_images(num_images=6)"
   ]
  },
  {
   "cell_type": "code",
   "execution_count": 7,
   "metadata": {},
   "outputs": [],
   "source": [
    "# eda.show_images_from_each_class()"
   ]
  },
  {
   "cell_type": "code",
   "execution_count": 8,
   "metadata": {},
   "outputs": [],
   "source": [
    "# eda.plot_class_distribution()"
   ]
  },
  {
   "cell_type": "code",
   "execution_count": 9,
   "metadata": {},
   "outputs": [],
   "source": [
    "# eda.show_image_shape()"
   ]
  },
  {
   "cell_type": "markdown",
   "metadata": {},
   "source": [
    "# **Preprocessing**\n"
   ]
  },
  {
   "cell_type": "code",
   "execution_count": 10,
   "metadata": {},
   "outputs": [],
   "source": [
    "preprocessor = CNNPreprocessor()"
   ]
  },
  {
   "cell_type": "code",
   "execution_count": 11,
   "metadata": {},
   "outputs": [
    {
     "name": "stdout",
     "output_type": "stream",
     "text": [
      "Available transformations and their parameters:\n",
      "+----------------------+----------------------------------------------------------------------+--------------------------------------------------------------------+\n",
      "| Transformation       | Description                                                          | Parameters                                                         |\n",
      "+======================+======================================================================+====================================================================+\n",
      "| RandomResizedCrop    | Randomly crops a part of the image and resizes it to the given size. | size: (int): Target size of the crop.                              |\n",
      "+----------------------+----------------------------------------------------------------------+--------------------------------------------------------------------+\n",
      "| RandomHorizontalFlip | Randomly flips the image horizontally with a given probability.      | p: (float): Probability of flipping the image. Default: 0.5        |\n",
      "+----------------------+----------------------------------------------------------------------+--------------------------------------------------------------------+\n",
      "| Resize               | Resizes the image to the given size.                                 | size: (int or tuple): Target size of the image.                    |\n",
      "+----------------------+----------------------------------------------------------------------+--------------------------------------------------------------------+\n",
      "| CenterCrop           | Crops the center part of the image to the given size.                | size: (int or tuple): Target size of the crop.                     |\n",
      "+----------------------+----------------------------------------------------------------------+--------------------------------------------------------------------+\n",
      "| Normalize            | Normalizes the image with given mean and standard deviation.         | mean: (sequence): Sequence of means for each channel.              |\n",
      "|                      |                                                                      | std: (sequence): Sequence of standard deviations for each channel. |\n",
      "+----------------------+----------------------------------------------------------------------+--------------------------------------------------------------------+\n",
      "| ToTensor             | Converts a PIL Image or NumPy ndarray to a tensor.                   | None: None                                                         |\n",
      "+----------------------+----------------------------------------------------------------------+--------------------------------------------------------------------+\n"
     ]
    }
   ],
   "source": [
    "preprocessor.help()"
   ]
  },
  {
   "cell_type": "code",
   "execution_count": 12,
   "metadata": {},
   "outputs": [],
   "source": [
    "# Задаем настройки трансформаций для тренировочного, валидационного и тестового наборов данных\n",
    "preprocessor.set_transform_settings(\n",
    "    train_transform_settings={\n",
    "        \"RandomResizedCrop\": {\"enabled\": True, \"size\": 224},\n",
    "        \"RandomHorizontalFlip\": {\"enabled\": True, \"p\": 0.5},\n",
    "        \"ToTensor\": {\"enabled\": True},\n",
    "        \"Normalize\": {\n",
    "            \"enabled\": True,\n",
    "            \"mean\": [0.485, 0.456, 0.406],\n",
    "            \"std\": [0.229, 0.224, 0.225],\n",
    "        },\n",
    "    },\n",
    "    test_transform_settings={\n",
    "        \"Resize\": {\"enabled\": True, \"size\": 256},\n",
    "        \"CenterCrop\": {\"enabled\": True, \"size\": 224},\n",
    "        \"ToTensor\": {\"enabled\": True},\n",
    "        \"Normalize\": {\n",
    "            \"enabled\": True,\n",
    "            \"mean\": [0.485, 0.456, 0.406],\n",
    "            \"std\": [0.229, 0.224, 0.225],\n",
    "        },\n",
    "    },\n",
    "    val_transform_settings={\n",
    "        \"Normalize\": {\n",
    "            \"enabled\": True,\n",
    "            \"mean\": [0.485, 0.456, 0.406],\n",
    "            \"std\": [0.229, 0.224, 0.225],\n",
    "        },\n",
    "    },\n",
    ")"
   ]
  },
  {
   "cell_type": "code",
   "execution_count": 13,
   "metadata": {},
   "outputs": [
    {
     "name": "stdout",
     "output_type": "stream",
     "text": [
      "Image type train: <class 'torch.Tensor'>\n",
      "Image type test: <class 'torch.Tensor'>\n",
      "Image type val: <class 'torch.Tensor'>\n"
     ]
    }
   ],
   "source": [
    "# Проверим первое изображение из набора данных\n",
    "img_train, label_img_train = train_dataset[0]\n",
    "img_test, label_test = test_dataset[0]\n",
    "img_val = val_dataset[0]\n",
    "\n",
    "print(f\"Image type train: {type(img_train)}\")\n",
    "print(f\"Image type test: {type(img_test)}\")\n",
    "print(f\"Image type val: {type(img_val)}\")"
   ]
  },
  {
   "cell_type": "code",
   "execution_count": 14,
   "metadata": {},
   "outputs": [],
   "source": [
    "# Применение трансформаций к тренировочному датасету\n",
    "transformed_train_dataset = preprocessor.transform_dataset(\n",
    "    train_dataset, dataset_type=\"train\"\n",
    ")\n",
    "\n",
    "# Применение трансформаций к тестовому датасету\n",
    "transformed_test_dataset = preprocessor.transform_dataset(\n",
    "    test_dataset, dataset_type=\"test\"\n",
    ")"
   ]
  },
  {
   "cell_type": "code",
   "execution_count": 15,
   "metadata": {},
   "outputs": [
    {
     "name": "stdout",
     "output_type": "stream",
     "text": [
      "Train dataset type: <class 'torchvision.datasets.folder.ImageFolder'>\n",
      "Test dataset type: <class 'torchvision.datasets.folder.ImageFolder'>\n"
     ]
    }
   ],
   "source": [
    "print(f\"Train dataset type: {type(transformed_train_dataset)}\")\n",
    "print(f\"Test dataset type: {type(transformed_test_dataset)}\")"
   ]
  },
  {
   "cell_type": "code",
   "execution_count": 16,
   "metadata": {},
   "outputs": [],
   "source": [
    "# Применение трансформаций к валидационному датасету\n",
    "transformed_val_dataset = preprocessor.transform_unlabeled_data(val_dataset)"
   ]
  },
  {
   "cell_type": "code",
   "execution_count": 17,
   "metadata": {},
   "outputs": [
    {
     "name": "stdout",
     "output_type": "stream",
     "text": [
      "Val dataset type: <class 'list'>\n"
     ]
    }
   ],
   "source": [
    "print(f\"Val dataset type: {type(transformed_val_dataset)}\")"
   ]
  },
  {
   "cell_type": "code",
   "execution_count": 18,
   "metadata": {},
   "outputs": [
    {
     "name": "stdout",
     "output_type": "stream",
     "text": [
      "Image type train: <class 'torch.Tensor'>\n",
      "Image type test: <class 'torch.Tensor'>\n",
      "Image type val: <class 'torch.Tensor'>\n"
     ]
    }
   ],
   "source": [
    "# Проверим первое изображение из набора данных\n",
    "img_train, label_img_train = transformed_train_dataset[0]\n",
    "img_test, label_test = transformed_test_dataset[0]\n",
    "img_val = transformed_val_dataset[0]\n",
    "\n",
    "print(f\"Image type train: {type(img_train)}\")\n",
    "print(f\"Image type test: {type(img_test)}\")\n",
    "print(f\"Image type val: {type(img_val)}\")"
   ]
  },
  {
   "cell_type": "code",
   "execution_count": 19,
   "metadata": {},
   "outputs": [
    {
     "name": "stdout",
     "output_type": "stream",
     "text": [
      "Number of classes: 6\n"
     ]
    }
   ],
   "source": [
    "num_classes = len(train_dataset.classes)\n",
    "print(f\"Number of classes: {num_classes}\")"
   ]
  },
  {
   "cell_type": "code",
   "execution_count": 20,
   "metadata": {},
   "outputs": [],
   "source": [
    "model = PyTorchCNNClassifier(\n",
    "    input_channels=3, num_classes=num_classes, random_state=42, epochs_logger=True\n",
    ")"
   ]
  },
  {
   "cell_type": "code",
   "execution_count": 21,
   "metadata": {},
   "outputs": [],
   "source": [
    "# param_grid = {\n",
    "#     \"conv_layers\": [\n",
    "#         [(32, 3, 1, 1), (64, 3, 1, 1), (128, 3, 1, 1)]\n",
    "#     ],  # out_channels, kernel_size, stride, padding\n",
    "#     \"hidden_sizes\": [[256, 128]],  # Fully connected layers\n",
    "#     \"lr\": [0.001, 0.01],  # Learning rate\n",
    "#     \"batch_size\": [16, 32],  # Batch size\n",
    "#     \"epochs\": [10, 20],  # Number of epochs\n",
    "#     \"dropout_rate\": [0.1, 0.3],  # Dropout rate for fully connected layers\n",
    "#     \"optimizer_type\": [\"sgd\", \"adam\"],  # Optimizer type\n",
    "#     \"activation_fn\": [\"ReLU\", \"Sigmoid\"],  # Activation function choices as strings\n",
    "#     \"pool_fn\": [\"MaxPool2d\", \"AvgPool2d\"],  # Pooling function choices as strings\n",
    "#     \"pool_kernel_size\": [2, 3],  # Pooling kernel size\n",
    "#     \"pool_stride\": [2, 1],  # Pooling stride\n",
    "#     \"pool_padding\": [0, 1],  # Pooling padding\n",
    "# }\n",
    "\n",
    "param_grid = {\n",
    "    \"conv_layers\": [[(32, 3, 1, 1), (64, 3, 1, 1), (128, 3, 1, 1)]],\n",
    "    \"hidden_sizes\": [[256, 128]],\n",
    "    \"lr\": [0.001],\n",
    "    \"batch_size\": [16],\n",
    "    \"epochs\": [10],\n",
    "    \"dropout_rate\": [0.1],\n",
    "    \"optimizer_type\": [\"adam\"],\n",
    "    \"activation_fn\": [\"ReLU\"],\n",
    "    \"pool_fn\": [\"MaxPool2d\"],\n",
    "    \"pool_kernel_size\": [2],\n",
    "    \"pool_stride\": [2],\n",
    "    \"pool_padding\": [0],\n",
    "}"
   ]
  },
  {
   "cell_type": "code",
   "execution_count": 22,
   "metadata": {},
   "outputs": [],
   "source": [
    "models = {\"cnn_model\": model}\n",
    "param_grids = {\"cnn_model\": param_grid}"
   ]
  },
  {
   "cell_type": "markdown",
   "metadata": {},
   "source": [
    "# **Model Training**\n"
   ]
  },
  {
   "cell_type": "code",
   "execution_count": 23,
   "metadata": {},
   "outputs": [],
   "source": [
    "model_trainer = CNNTrainer(device=\"cuda\")"
   ]
  },
  {
   "cell_type": "code",
   "execution_count": 24,
   "metadata": {},
   "outputs": [
    {
     "name": "stdout",
     "output_type": "stream",
     "text": [
      "=== CNNTrainer Help ===\n",
      "This trainer is designed to support classification tasks using PyTorch CNN models.\n",
      "\n",
      "Usage:\n",
      "1. Initialize the CNNTrainer with the device ('cpu' or 'cuda').\n",
      "   Example:\n",
      "       trainer = CNNTrainer(device='cuda')\n",
      "\n",
      "2. Create model objects and define the parameter grid for hyperparameter tuning.\n",
      "   Example:\n",
      "       param_grid = { \"lr\": [0.001, 0.01], \"epochs\": [10, 20] }\n",
      "\n",
      "3. Call the `train` method with the training and test datasets, models, and parameter grid.\n",
      "   Example:\n",
      "       trainer.train(train_dataset, test_dataset, models={'cnn_model': model}, param_grids={'cnn_model': param_grid})\n"
     ]
    }
   ],
   "source": [
    "model_trainer.help()"
   ]
  },
  {
   "cell_type": "code",
   "execution_count": 25,
   "metadata": {},
   "outputs": [
    {
     "name": "stdout",
     "output_type": "stream",
     "text": [
      "Training on device: cuda\n",
      "\n",
      "Training cnn_model with parameters: {'activation_fn': 'ReLU', 'batch_size': 16, 'conv_layers': [(32, 3, 1, 1), (64, 3, 1, 1), (128, 3, 1, 1)], 'dropout_rate': 0.1, 'epochs': 10, 'hidden_sizes': [256, 128], 'lr': 0.001, 'optimizer_type': 'adam', 'pool_fn': 'MaxPool2d', 'pool_kernel_size': 2, 'pool_padding': 0, 'pool_stride': 2}\n"
     ]
    },
    {
     "name": "stderr",
     "output_type": "stream",
     "text": [
      "Training cnn_model:   0%|          | 0/10 [00:00<?, ?it/s]"
     ]
    },
    {
     "name": "stdout",
     "output_type": "stream",
     "text": [
      "Training with parameters: {'activation_fn': 'ReLU', 'batch_size': 16, 'conv_layers': [(32, 3, 1, 1), (64, 3, 1, 1), (128, 3, 1, 1)], 'dropout_rate': 0.1, 'epochs': 10, 'hidden_sizes': [256, 128], 'lr': 0.001, 'optimizer_type': 'adam', 'pool_fn': 'MaxPool2d', 'pool_kernel_size': 2, 'pool_padding': 0, 'pool_stride': 2}\n"
     ]
    },
    {
     "ename": "RuntimeError",
     "evalue": "Found no NVIDIA driver on your system. Please check that you have an NVIDIA GPU and installed a driver from http://www.nvidia.com/Download/index.aspx",
     "output_type": "error",
     "traceback": [
      "\u001b[0;31m---------------------------------------------------------------------------\u001b[0m",
      "\u001b[0;31mRuntimeError\u001b[0m                              Traceback (most recent call last)",
      "Cell \u001b[0;32mIn[25], line 1\u001b[0m\n\u001b[0;32m----> 1\u001b[0m \u001b[43mmodel_trainer\u001b[49m\u001b[38;5;241;43m.\u001b[39;49m\u001b[43mtrain\u001b[49m\u001b[43m(\u001b[49m\n\u001b[1;32m      2\u001b[0m \u001b[43m    \u001b[49m\u001b[43mtrain_dataset\u001b[49m\u001b[38;5;241;43m=\u001b[39;49m\u001b[43mtransformed_train_dataset\u001b[49m\u001b[43m,\u001b[49m\n\u001b[1;32m      3\u001b[0m \u001b[43m    \u001b[49m\u001b[43mtest_dataset\u001b[49m\u001b[38;5;241;43m=\u001b[39;49m\u001b[43mtransformed_test_dataset\u001b[49m\u001b[43m,\u001b[49m\n\u001b[1;32m      4\u001b[0m \u001b[43m    \u001b[49m\u001b[43mmodels\u001b[49m\u001b[38;5;241;43m=\u001b[39;49m\u001b[43mmodels\u001b[49m\u001b[43m,\u001b[49m\n\u001b[1;32m      5\u001b[0m \u001b[43m    \u001b[49m\u001b[43mparam_grids\u001b[49m\u001b[38;5;241;43m=\u001b[39;49m\u001b[43mparam_grids\u001b[49m\u001b[43m,\u001b[49m\n\u001b[1;32m      6\u001b[0m \u001b[43m    \u001b[49m\u001b[43mscoring\u001b[49m\u001b[38;5;241;43m=\u001b[39;49m\u001b[38;5;124;43m\"\u001b[39;49m\u001b[38;5;124;43maccuracy\u001b[39;49m\u001b[38;5;124;43m\"\u001b[39;49m\u001b[43m,\u001b[49m\n\u001b[1;32m      7\u001b[0m \u001b[43m    \u001b[49m\u001b[43mverbose\u001b[49m\u001b[38;5;241;43m=\u001b[39;49m\u001b[38;5;241;43m1\u001b[39;49m\u001b[43m,\u001b[49m\n\u001b[1;32m      8\u001b[0m \u001b[43m    \u001b[49m\u001b[43muse_progress_bar\u001b[49m\u001b[38;5;241;43m=\u001b[39;49m\u001b[38;5;28;43;01mTrue\u001b[39;49;00m\u001b[43m,\u001b[49m\n\u001b[1;32m      9\u001b[0m \u001b[43m)\u001b[49m\n",
      "File \u001b[0;32m~/Documents/GitHub/goit_cv_hw4/src/tools/CNNTrainer.py:74\u001b[0m, in \u001b[0;36mCNNTrainer.train\u001b[0;34m(self, train_dataset, test_dataset, models, param_grids, scoring, verbose, use_progress_bar)\u001b[0m\n\u001b[1;32m     71\u001b[0m     \u001b[38;5;28mprint\u001b[39m(\u001b[38;5;124mf\u001b[39m\u001b[38;5;124m\"\u001b[39m\u001b[38;5;124mTraining with parameters: \u001b[39m\u001b[38;5;132;01m{\u001b[39;00mparams\u001b[38;5;132;01m}\u001b[39;00m\u001b[38;5;124m\"\u001b[39m)\n\u001b[1;32m     73\u001b[0m \u001b[38;5;66;03m# Train the model and return accuracy\u001b[39;00m\n\u001b[0;32m---> 74\u001b[0m accuracy \u001b[38;5;241m=\u001b[39m \u001b[43mmodel\u001b[49m\u001b[38;5;241;43m.\u001b[39;49m\u001b[43mfit\u001b[49m\u001b[43m(\u001b[49m\u001b[43mtrain_dataset\u001b[49m\u001b[43m,\u001b[49m\u001b[43m \u001b[49m\u001b[43mtest_dataset\u001b[49m\u001b[43m)\u001b[49m\n\u001b[1;32m     76\u001b[0m \u001b[38;5;28;01mif\u001b[39;00m verbose:\n\u001b[1;32m     77\u001b[0m     \u001b[38;5;28mprint\u001b[39m(\u001b[38;5;124mf\u001b[39m\u001b[38;5;124m\"\u001b[39m\u001b[38;5;124mValidation Accuracy for \u001b[39m\u001b[38;5;132;01m{\u001b[39;00mmodel_name\u001b[38;5;132;01m}\u001b[39;00m\u001b[38;5;124m: \u001b[39m\u001b[38;5;132;01m{\u001b[39;00maccuracy\u001b[38;5;132;01m}\u001b[39;00m\u001b[38;5;124m\"\u001b[39m)\n",
      "File \u001b[0;32m~/Documents/GitHub/goit_cv_hw4/src/models/PyTorchCNNClassifier.py:205\u001b[0m, in \u001b[0;36mPyTorchCNNClassifier.fit\u001b[0;34m(self, train_dataset, test_dataset)\u001b[0m\n\u001b[1;32m    198\u001b[0m val_loader \u001b[38;5;241m=\u001b[39m (\n\u001b[1;32m    199\u001b[0m     DataLoader(test_dataset, batch_size\u001b[38;5;241m=\u001b[39m\u001b[38;5;28mself\u001b[39m\u001b[38;5;241m.\u001b[39mbatch_size, shuffle\u001b[38;5;241m=\u001b[39m\u001b[38;5;28;01mFalse\u001b[39;00m)\n\u001b[1;32m    200\u001b[0m     \u001b[38;5;28;01mif\u001b[39;00m test_dataset\n\u001b[1;32m    201\u001b[0m     \u001b[38;5;28;01melse\u001b[39;00m \u001b[38;5;28;01mNone\u001b[39;00m\n\u001b[1;32m    202\u001b[0m )\n\u001b[1;32m    204\u001b[0m \u001b[38;5;66;03m# Инициализация модели и оптимизатора\u001b[39;00m\n\u001b[0;32m--> 205\u001b[0m \u001b[38;5;28;43mself\u001b[39;49m\u001b[38;5;241;43m.\u001b[39;49m\u001b[43m_initialize_model\u001b[49m\u001b[43m(\u001b[49m\u001b[43m)\u001b[49m\n\u001b[1;32m    206\u001b[0m \u001b[38;5;28mself\u001b[39m\u001b[38;5;241m.\u001b[39mmodel\u001b[38;5;241m.\u001b[39mtrain()\n\u001b[1;32m    208\u001b[0m \u001b[38;5;28;01mfor\u001b[39;00m epoch \u001b[38;5;129;01min\u001b[39;00m \u001b[38;5;28mrange\u001b[39m(\u001b[38;5;28mself\u001b[39m\u001b[38;5;241m.\u001b[39mepochs):\n",
      "File \u001b[0;32m~/Documents/GitHub/goit_cv_hw4/src/models/PyTorchCNNClassifier.py:147\u001b[0m, in \u001b[0;36mPyTorchCNNClassifier._initialize_model\u001b[0;34m(self)\u001b[0m\n\u001b[1;32m    144\u001b[0m layers\u001b[38;5;241m.\u001b[39mappend(nn\u001b[38;5;241m.\u001b[39mLinear(input_dim, \u001b[38;5;28mself\u001b[39m\u001b[38;5;241m.\u001b[39mnum_classes))\n\u001b[1;32m    146\u001b[0m \u001b[38;5;28mself\u001b[39m\u001b[38;5;241m.\u001b[39mmodel \u001b[38;5;241m=\u001b[39m nn\u001b[38;5;241m.\u001b[39mSequential(\u001b[38;5;241m*\u001b[39mlayers)\n\u001b[0;32m--> 147\u001b[0m \u001b[38;5;28;43mself\u001b[39;49m\u001b[38;5;241;43m.\u001b[39;49m\u001b[43mmodel\u001b[49m\u001b[38;5;241;43m.\u001b[39;49m\u001b[43mto\u001b[49m\u001b[43m(\u001b[49m\u001b[38;5;28;43mself\u001b[39;49m\u001b[38;5;241;43m.\u001b[39;49m\u001b[43mdevice\u001b[49m\u001b[43m)\u001b[49m\n\u001b[1;32m    149\u001b[0m \u001b[38;5;66;03m# Optimizer setup\u001b[39;00m\n\u001b[1;32m    150\u001b[0m \u001b[38;5;28;01mif\u001b[39;00m \u001b[38;5;28mself\u001b[39m\u001b[38;5;241m.\u001b[39moptimizer_type \u001b[38;5;241m==\u001b[39m \u001b[38;5;124m\"\u001b[39m\u001b[38;5;124madam\u001b[39m\u001b[38;5;124m\"\u001b[39m:\n",
      "File \u001b[0;32m~/.local/lib/python3.12/site-packages/torch/nn/modules/module.py:1174\u001b[0m, in \u001b[0;36mModule.to\u001b[0;34m(self, *args, **kwargs)\u001b[0m\n\u001b[1;32m   1171\u001b[0m         \u001b[38;5;28;01melse\u001b[39;00m:\n\u001b[1;32m   1172\u001b[0m             \u001b[38;5;28;01mraise\u001b[39;00m\n\u001b[0;32m-> 1174\u001b[0m \u001b[38;5;28;01mreturn\u001b[39;00m \u001b[38;5;28;43mself\u001b[39;49m\u001b[38;5;241;43m.\u001b[39;49m\u001b[43m_apply\u001b[49m\u001b[43m(\u001b[49m\u001b[43mconvert\u001b[49m\u001b[43m)\u001b[49m\n",
      "File \u001b[0;32m~/.local/lib/python3.12/site-packages/torch/nn/modules/module.py:780\u001b[0m, in \u001b[0;36mModule._apply\u001b[0;34m(self, fn, recurse)\u001b[0m\n\u001b[1;32m    778\u001b[0m \u001b[38;5;28;01mif\u001b[39;00m recurse:\n\u001b[1;32m    779\u001b[0m     \u001b[38;5;28;01mfor\u001b[39;00m module \u001b[38;5;129;01min\u001b[39;00m \u001b[38;5;28mself\u001b[39m\u001b[38;5;241m.\u001b[39mchildren():\n\u001b[0;32m--> 780\u001b[0m         \u001b[43mmodule\u001b[49m\u001b[38;5;241;43m.\u001b[39;49m\u001b[43m_apply\u001b[49m\u001b[43m(\u001b[49m\u001b[43mfn\u001b[49m\u001b[43m)\u001b[49m\n\u001b[1;32m    782\u001b[0m \u001b[38;5;28;01mdef\u001b[39;00m \u001b[38;5;21mcompute_should_use_set_data\u001b[39m(tensor, tensor_applied):\n\u001b[1;32m    783\u001b[0m     \u001b[38;5;28;01mif\u001b[39;00m torch\u001b[38;5;241m.\u001b[39m_has_compatible_shallow_copy_type(tensor, tensor_applied):\n\u001b[1;32m    784\u001b[0m         \u001b[38;5;66;03m# If the new tensor has compatible tensor type as the existing tensor,\u001b[39;00m\n\u001b[1;32m    785\u001b[0m         \u001b[38;5;66;03m# the current behavior is to change the tensor in-place using `.data =`,\u001b[39;00m\n\u001b[0;32m   (...)\u001b[0m\n\u001b[1;32m    790\u001b[0m         \u001b[38;5;66;03m# global flag to let the user control whether they want the future\u001b[39;00m\n\u001b[1;32m    791\u001b[0m         \u001b[38;5;66;03m# behavior of overwriting the existing tensor or not.\u001b[39;00m\n",
      "File \u001b[0;32m~/.local/lib/python3.12/site-packages/torch/nn/modules/module.py:805\u001b[0m, in \u001b[0;36mModule._apply\u001b[0;34m(self, fn, recurse)\u001b[0m\n\u001b[1;32m    801\u001b[0m \u001b[38;5;66;03m# Tensors stored in modules are graph leaves, and we don't want to\u001b[39;00m\n\u001b[1;32m    802\u001b[0m \u001b[38;5;66;03m# track autograd history of `param_applied`, so we have to use\u001b[39;00m\n\u001b[1;32m    803\u001b[0m \u001b[38;5;66;03m# `with torch.no_grad():`\u001b[39;00m\n\u001b[1;32m    804\u001b[0m \u001b[38;5;28;01mwith\u001b[39;00m torch\u001b[38;5;241m.\u001b[39mno_grad():\n\u001b[0;32m--> 805\u001b[0m     param_applied \u001b[38;5;241m=\u001b[39m \u001b[43mfn\u001b[49m\u001b[43m(\u001b[49m\u001b[43mparam\u001b[49m\u001b[43m)\u001b[49m\n\u001b[1;32m    806\u001b[0m p_should_use_set_data \u001b[38;5;241m=\u001b[39m compute_should_use_set_data(param, param_applied)\n\u001b[1;32m    808\u001b[0m \u001b[38;5;66;03m# subclasses may have multiple child tensors so we need to use swap_tensors\u001b[39;00m\n",
      "File \u001b[0;32m~/.local/lib/python3.12/site-packages/torch/nn/modules/module.py:1160\u001b[0m, in \u001b[0;36mModule.to.<locals>.convert\u001b[0;34m(t)\u001b[0m\n\u001b[1;32m   1153\u001b[0m     \u001b[38;5;28;01mif\u001b[39;00m convert_to_format \u001b[38;5;129;01mis\u001b[39;00m \u001b[38;5;129;01mnot\u001b[39;00m \u001b[38;5;28;01mNone\u001b[39;00m \u001b[38;5;129;01mand\u001b[39;00m t\u001b[38;5;241m.\u001b[39mdim() \u001b[38;5;129;01min\u001b[39;00m (\u001b[38;5;241m4\u001b[39m, \u001b[38;5;241m5\u001b[39m):\n\u001b[1;32m   1154\u001b[0m         \u001b[38;5;28;01mreturn\u001b[39;00m t\u001b[38;5;241m.\u001b[39mto(\n\u001b[1;32m   1155\u001b[0m             device,\n\u001b[1;32m   1156\u001b[0m             dtype \u001b[38;5;28;01mif\u001b[39;00m t\u001b[38;5;241m.\u001b[39mis_floating_point() \u001b[38;5;129;01mor\u001b[39;00m t\u001b[38;5;241m.\u001b[39mis_complex() \u001b[38;5;28;01melse\u001b[39;00m \u001b[38;5;28;01mNone\u001b[39;00m,\n\u001b[1;32m   1157\u001b[0m             non_blocking,\n\u001b[1;32m   1158\u001b[0m             memory_format\u001b[38;5;241m=\u001b[39mconvert_to_format,\n\u001b[1;32m   1159\u001b[0m         )\n\u001b[0;32m-> 1160\u001b[0m     \u001b[38;5;28;01mreturn\u001b[39;00m \u001b[43mt\u001b[49m\u001b[38;5;241;43m.\u001b[39;49m\u001b[43mto\u001b[49m\u001b[43m(\u001b[49m\n\u001b[1;32m   1161\u001b[0m \u001b[43m        \u001b[49m\u001b[43mdevice\u001b[49m\u001b[43m,\u001b[49m\n\u001b[1;32m   1162\u001b[0m \u001b[43m        \u001b[49m\u001b[43mdtype\u001b[49m\u001b[43m \u001b[49m\u001b[38;5;28;43;01mif\u001b[39;49;00m\u001b[43m \u001b[49m\u001b[43mt\u001b[49m\u001b[38;5;241;43m.\u001b[39;49m\u001b[43mis_floating_point\u001b[49m\u001b[43m(\u001b[49m\u001b[43m)\u001b[49m\u001b[43m \u001b[49m\u001b[38;5;129;43;01mor\u001b[39;49;00m\u001b[43m \u001b[49m\u001b[43mt\u001b[49m\u001b[38;5;241;43m.\u001b[39;49m\u001b[43mis_complex\u001b[49m\u001b[43m(\u001b[49m\u001b[43m)\u001b[49m\u001b[43m \u001b[49m\u001b[38;5;28;43;01melse\u001b[39;49;00m\u001b[43m \u001b[49m\u001b[38;5;28;43;01mNone\u001b[39;49;00m\u001b[43m,\u001b[49m\n\u001b[1;32m   1163\u001b[0m \u001b[43m        \u001b[49m\u001b[43mnon_blocking\u001b[49m\u001b[43m,\u001b[49m\n\u001b[1;32m   1164\u001b[0m \u001b[43m    \u001b[49m\u001b[43m)\u001b[49m\n\u001b[1;32m   1165\u001b[0m \u001b[38;5;28;01mexcept\u001b[39;00m \u001b[38;5;167;01mNotImplementedError\u001b[39;00m \u001b[38;5;28;01mas\u001b[39;00m e:\n\u001b[1;32m   1166\u001b[0m     \u001b[38;5;28;01mif\u001b[39;00m \u001b[38;5;28mstr\u001b[39m(e) \u001b[38;5;241m==\u001b[39m \u001b[38;5;124m\"\u001b[39m\u001b[38;5;124mCannot copy out of meta tensor; no data!\u001b[39m\u001b[38;5;124m\"\u001b[39m:\n",
      "File \u001b[0;32m~/.local/lib/python3.12/site-packages/torch/cuda/__init__.py:314\u001b[0m, in \u001b[0;36m_lazy_init\u001b[0;34m()\u001b[0m\n\u001b[1;32m    312\u001b[0m \u001b[38;5;28;01mif\u001b[39;00m \u001b[38;5;124m\"\u001b[39m\u001b[38;5;124mCUDA_MODULE_LOADING\u001b[39m\u001b[38;5;124m\"\u001b[39m \u001b[38;5;129;01mnot\u001b[39;00m \u001b[38;5;129;01min\u001b[39;00m os\u001b[38;5;241m.\u001b[39menviron:\n\u001b[1;32m    313\u001b[0m     os\u001b[38;5;241m.\u001b[39menviron[\u001b[38;5;124m\"\u001b[39m\u001b[38;5;124mCUDA_MODULE_LOADING\u001b[39m\u001b[38;5;124m\"\u001b[39m] \u001b[38;5;241m=\u001b[39m \u001b[38;5;124m\"\u001b[39m\u001b[38;5;124mLAZY\u001b[39m\u001b[38;5;124m\"\u001b[39m\n\u001b[0;32m--> 314\u001b[0m \u001b[43mtorch\u001b[49m\u001b[38;5;241;43m.\u001b[39;49m\u001b[43m_C\u001b[49m\u001b[38;5;241;43m.\u001b[39;49m\u001b[43m_cuda_init\u001b[49m\u001b[43m(\u001b[49m\u001b[43m)\u001b[49m\n\u001b[1;32m    315\u001b[0m \u001b[38;5;66;03m# Some of the queued calls may reentrantly call _lazy_init();\u001b[39;00m\n\u001b[1;32m    316\u001b[0m \u001b[38;5;66;03m# we need to just return without initializing in that case.\u001b[39;00m\n\u001b[1;32m    317\u001b[0m \u001b[38;5;66;03m# However, we must not let any *other* threads in!\u001b[39;00m\n\u001b[1;32m    318\u001b[0m _tls\u001b[38;5;241m.\u001b[39mis_initializing \u001b[38;5;241m=\u001b[39m \u001b[38;5;28;01mTrue\u001b[39;00m\n",
      "\u001b[0;31mRuntimeError\u001b[0m: Found no NVIDIA driver on your system. Please check that you have an NVIDIA GPU and installed a driver from http://www.nvidia.com/Download/index.aspx"
     ]
    }
   ],
   "source": [
    "model_trainer.train(\n",
    "    train_dataset=transformed_train_dataset,\n",
    "    test_dataset=transformed_test_dataset,\n",
    "    models=models,\n",
    "    param_grids=param_grids,\n",
    "    scoring=\"accuracy\",\n",
    "    verbose=1,\n",
    "    use_progress_bar=True,\n",
    ")"
   ]
  },
  {
   "cell_type": "code",
   "execution_count": 84,
   "metadata": {},
   "outputs": [],
   "source": [
    "best_models = model_trainer.best_estimators\n",
    "best_params = model_trainer.best_params\n",
    "best_scores = model_trainer.best_scores\n",
    "best_model_name = model_trainer.best_model_name"
   ]
  },
  {
   "cell_type": "code",
   "execution_count": 85,
   "metadata": {},
   "outputs": [],
   "source": [
    "print(best_models)\n",
    "print(best_params)\n",
    "print(best_scores)\n",
    "print(best_model_name)"
   ]
  },
  {
   "cell_type": "markdown",
   "metadata": {},
   "source": [
    "# **Model Evaluator**\n"
   ]
  },
  {
   "cell_type": "code",
   "execution_count": 86,
   "metadata": {},
   "outputs": [],
   "source": [
    "evaluator = CNNEvaluator()"
   ]
  },
  {
   "cell_type": "code",
   "execution_count": 87,
   "metadata": {},
   "outputs": [
    {
     "name": "stdout",
     "output_type": "stream",
     "text": [
      "Visualizing the architecture of the model: pytorch_regressor\n",
      "=================================================================\n",
      "Layer (type:depth-idx)                   Param #\n",
      "=================================================================\n",
      "├─Linear: 1-1                            2,560\n",
      "├─ReLU: 1-2                              --\n",
      "├─Dropout: 1-3                           --\n",
      "├─Linear: 1-4                            32,896\n",
      "├─Tanh: 1-5                              --\n",
      "├─Dropout: 1-6                           --\n",
      "├─Linear: 1-7                            8,256\n",
      "├─ReLU: 1-8                              --\n",
      "├─Dropout: 1-9                           --\n",
      "├─Linear: 1-10                           65\n",
      "=================================================================\n",
      "Total params: 43,777\n",
      "Trainable params: 43,777\n",
      "Non-trainable params: 0\n",
      "=================================================================\n"
     ]
    }
   ],
   "source": [
    "evaluator.visualize_pipeline(model_name=best_model_name, best_models=best_models)"
   ]
  },
  {
   "cell_type": "code",
   "execution_count": 88,
   "metadata": {},
   "outputs": [
    {
     "name": "stdout",
     "output_type": "stream",
     "text": [
      "Extracted PyTorch model: Sequential(\n",
      "  (0): Linear(in_features=9, out_features=256, bias=True)\n",
      "  (1): ReLU()\n",
      "  (2): Dropout(p=0.1, inplace=False)\n",
      "  (3): Linear(in_features=256, out_features=128, bias=True)\n",
      "  (4): Tanh()\n",
      "  (5): Dropout(p=0.1, inplace=False)\n",
      "  (6): Linear(in_features=128, out_features=64, bias=True)\n",
      "  (7): ReLU()\n",
      "  (8): Dropout(p=0.1, inplace=False)\n",
      "  (9): Linear(in_features=64, out_features=1, bias=True)\n",
      ")\n",
      "Model is on device: cpu\n",
      "Evaluation Metrics for Validation Set:\n"
     ]
    },
    {
     "data": {
      "text/html": [
       "<div>\n",
       "<style scoped>\n",
       "    .dataframe tbody tr th:only-of-type {\n",
       "        vertical-align: middle;\n",
       "    }\n",
       "\n",
       "    .dataframe tbody tr th {\n",
       "        vertical-align: top;\n",
       "    }\n",
       "\n",
       "    .dataframe thead th {\n",
       "        text-align: right;\n",
       "    }\n",
       "</style>\n",
       "<table border=\"1\" class=\"dataframe\">\n",
       "  <thead>\n",
       "    <tr style=\"text-align: right;\">\n",
       "      <th></th>\n",
       "      <th>Model</th>\n",
       "      <th>R²</th>\n",
       "      <th>MAE</th>\n",
       "      <th>MAPE</th>\n",
       "      <th>MSE</th>\n",
       "    </tr>\n",
       "  </thead>\n",
       "  <tbody>\n",
       "    <tr>\n",
       "      <th>0</th>\n",
       "      <td>pytorch_regressor</td>\n",
       "      <td>0.871213</td>\n",
       "      <td>4.531914</td>\n",
       "      <td>0.146756</td>\n",
       "      <td>33.185549</td>\n",
       "    </tr>\n",
       "  </tbody>\n",
       "</table>\n",
       "</div>"
      ],
      "text/plain": [
       "               Model        R²       MAE      MAPE        MSE\n",
       "0  pytorch_regressor  0.871213  4.531914  0.146756  33.185549"
      ]
     },
     "metadata": {},
     "output_type": "display_data"
    },
    {
     "name": "stdout",
     "output_type": "stream",
     "text": [
      "\n",
      "Best Parameters for Each Model (found during cross-validation):\n"
     ]
    },
    {
     "data": {
      "text/html": [
       "<div>\n",
       "<style scoped>\n",
       "    .dataframe tbody tr th:only-of-type {\n",
       "        vertical-align: middle;\n",
       "    }\n",
       "\n",
       "    .dataframe tbody tr th {\n",
       "        vertical-align: top;\n",
       "    }\n",
       "\n",
       "    .dataframe thead th {\n",
       "        text-align: right;\n",
       "    }\n",
       "</style>\n",
       "<table border=\"1\" class=\"dataframe\">\n",
       "  <thead>\n",
       "    <tr style=\"text-align: right;\">\n",
       "      <th></th>\n",
       "      <th>Model</th>\n",
       "      <th>regressor__batch_size</th>\n",
       "      <th>regressor__criterion_type</th>\n",
       "      <th>regressor__dropout_rate</th>\n",
       "      <th>regressor__epochs</th>\n",
       "      <th>regressor__hidden_sizes</th>\n",
       "      <th>regressor__lr</th>\n",
       "      <th>regressor__optimizer_type</th>\n",
       "    </tr>\n",
       "  </thead>\n",
       "  <tbody>\n",
       "    <tr>\n",
       "      <th>0</th>\n",
       "      <td>pytorch_regressor</td>\n",
       "      <td>16</td>\n",
       "      <td>mse</td>\n",
       "      <td>0.1</td>\n",
       "      <td>200</td>\n",
       "      <td>[256, 128, 64]</td>\n",
       "      <td>0.01</td>\n",
       "      <td>sgd</td>\n",
       "    </tr>\n",
       "  </tbody>\n",
       "</table>\n",
       "</div>"
      ],
      "text/plain": [
       "               Model regressor__batch_size regressor__criterion_type  \\\n",
       "0  pytorch_regressor                    16                       mse   \n",
       "\n",
       "  regressor__dropout_rate regressor__epochs regressor__hidden_sizes  \\\n",
       "0                     0.1               200          [256, 128, 64]   \n",
       "\n",
       "  regressor__lr regressor__optimizer_type  \n",
       "0          0.01                       sgd  "
      ]
     },
     "metadata": {},
     "output_type": "display_data"
    },
    {
     "name": "stdout",
     "output_type": "stream",
     "text": [
      "\n",
      "Overall Best Model and Score (based on cross-validation score):\n"
     ]
    },
    {
     "data": {
      "text/html": [
       "<div>\n",
       "<style scoped>\n",
       "    .dataframe tbody tr th:only-of-type {\n",
       "        vertical-align: middle;\n",
       "    }\n",
       "\n",
       "    .dataframe tbody tr th {\n",
       "        vertical-align: top;\n",
       "    }\n",
       "\n",
       "    .dataframe thead th {\n",
       "        text-align: right;\n",
       "    }\n",
       "</style>\n",
       "<table border=\"1\" class=\"dataframe\">\n",
       "  <thead>\n",
       "    <tr style=\"text-align: right;\">\n",
       "      <th></th>\n",
       "      <th>Overall Best Model</th>\n",
       "      <th>Score (based on cross-validation score)</th>\n",
       "    </tr>\n",
       "  </thead>\n",
       "  <tbody>\n",
       "    <tr>\n",
       "      <th>0</th>\n",
       "      <td>pytorch_regressor</td>\n",
       "      <td>35.730794</td>\n",
       "    </tr>\n",
       "  </tbody>\n",
       "</table>\n",
       "</div>"
      ],
      "text/plain": [
       "  Overall Best Model  Score (based on cross-validation score)\n",
       "0  pytorch_regressor                                35.730794"
      ]
     },
     "metadata": {},
     "output_type": "display_data"
    },
    {
     "name": "stdout",
     "output_type": "stream",
     "text": [
      "\n",
      "Metric Explanations for Regression:\n",
      "R²: Proportion of the variance explained by the model (higher is better).\n",
      "MAE: Mean Absolute Error, average error magnitude (lower is better).\n",
      "MAPE: Mean Absolute Percentage Error (lower is better).\n",
      "MSE: Mean Squared Error (lower is better).\n"
     ]
    }
   ],
   "source": [
    "evaluator.display_results(\n",
    "    test_dataset=transformed_test_dataset,\n",
    "    best_models=best_models,\n",
    "    best_params=best_params,\n",
    "    best_scores=best_scores,\n",
    "    best_model_name=best_model_name,\n",
    "    help_text=True,\n",
    ")"
   ]
  },
  {
   "cell_type": "code",
   "execution_count": 89,
   "metadata": {},
   "outputs": [
    {
     "data": {
      "image/png": "[encoded data removed]",
      "text/plain": [
       "<Figure size 800x550 with 1 Axes>"
      ]
     },
     "metadata": {},
     "output_type": "display_data"
    }
   ],
   "source": [
    "evaluator.plot_loss_history(best_models, best_model_name)"
   ]
  },
  {
   "cell_type": "code",
   "execution_count": 90,
   "metadata": {},
   "outputs": [
    {
     "name": "stdout",
     "output_type": "stream",
     "text": [
      "Results for the model on the test set:\n"
     ]
    },
    {
     "data": {
      "text/html": [
       "<div>\n",
       "<style scoped>\n",
       "    .dataframe tbody tr th:only-of-type {\n",
       "        vertical-align: middle;\n",
       "    }\n",
       "\n",
       "    .dataframe tbody tr th {\n",
       "        vertical-align: top;\n",
       "    }\n",
       "\n",
       "    .dataframe thead th {\n",
       "        text-align: right;\n",
       "    }\n",
       "</style>\n",
       "<table border=\"1\" class=\"dataframe\">\n",
       "  <thead>\n",
       "    <tr style=\"text-align: right;\">\n",
       "      <th></th>\n",
       "      <th>R²</th>\n",
       "      <th>MAE</th>\n",
       "      <th>MAPE</th>\n",
       "      <th>MSE</th>\n",
       "    </tr>\n",
       "  </thead>\n",
       "  <tbody>\n",
       "    <tr>\n",
       "      <th>Model Evaluation</th>\n",
       "      <td>0.871213</td>\n",
       "      <td>4.531914</td>\n",
       "      <td>0.146756</td>\n",
       "      <td>33.185549</td>\n",
       "    </tr>\n",
       "  </tbody>\n",
       "</table>\n",
       "</div>"
      ],
      "text/plain": [
       "                        R²       MAE      MAPE        MSE\n",
       "Model Evaluation  0.871213  4.531914  0.146756  33.185549"
      ]
     },
     "metadata": {},
     "output_type": "display_data"
    }
   ],
   "source": [
    "evaluator.validate_on_test(\n",
    "    val_dataset=transformed_val_dataset,\n",
    "    best_models=best_models,\n",
    "    best_model_name=best_model_name,\n",
    "    task_type=\"regression\",\n",
    ")"
   ]
  },
  {
   "cell_type": "markdown",
   "metadata": {},
   "source": [
    "# **Key Conclusions and Recommendations for Improvement**\n"
   ]
  },
  {
   "cell_type": "markdown",
   "metadata": {},
   "source": [
    "# **Key Conclusions:**\n",
    "\n",
    "**High Model Accuracy:** The model achieved R² = 0.8808, meaning it explains 88.08% of the variance in the target variable, indicating strong predictive performance.\n",
    "\n",
    "**Low Error:** Metrics MAE = 4.36, MAPE = 14.21%, and MSE = 30.73 (the primary metric used during training) indicate a relatively low average error, with predictions deviating by about 14% from actual values.\n",
    "\n",
    "**Optimal Hyperparameters:** I tested architectures with both 3 layers [256, 128, 64] and 5 layers [256, 128, 64, 32, 16], with the 3-layer configuration performing better. Various hyperparameters were explored, including batch sizes (16, 32), learning rates (0.01, 0.001), dropout rates (0.1, 0.2, 0.3), and both the Adam and SGD optimizers, with SGD yielding the best results.\n",
    "\n",
    "# **Model Architecture:**\n",
    "\n",
    "**Hidden Layers:** The architecture consists of fully connected layers. The best-performing model used 3 hidden layers with 256, 128, and 64 neurons, alternating between ReLU and Tanh activations.\n",
    "\n",
    "**Regularization:** Dropout layers with varying rates (0.1, 0.2, 0.3) were included after each hidden layer to prevent overfitting, with a 0.1 dropout rate proving optimal. This acts as a form of early stopping by reducing overfitting as the model trains.\n",
    "Optimizer and Loss Function: The SGD optimizer combined with the mean squared error (MSE) loss function was used for training.\n",
    "\n",
    "# **Recommendations:**\n",
    "\n",
    "**Explore Deeper Architectures:** Although the 3-layer model performed better, further tuning of deeper architectures (5+ layers) with additional regularization techniques could be beneficial.\n",
    "\n",
    "**Refine Dropout and Learning Rate:** Fine-tuning the dropout rates and using learning rate schedules could improve convergence and prevent overfitting. Dropout, already implemented in the model, acts as an early stopping mechanism by preventing overfitting during training.\n",
    "Early Stopping and Optimization: Besides dropout, consider experimenting with more advanced early stopping strategies, combined with fine-tuning the learning rates for further optimization.\n"
   ]
  }
 ],
 "metadata": {
  "kernelspec": {
   "display_name": "Python 3",
   "language": "python",
   "name": "python3"
  },
  "language_info": {
   "codemirror_mode": {
    "name": "ipython",
    "version": 3
   },
   "file_extension": ".py",
   "mimetype": "text/x-python",
   "name": "python",
   "nbconvert_exporter": "python",
   "pygments_lexer": "ipython3",
   "version": "3.12.3"
  }
 },
 "nbformat": 4,
 "nbformat_minor": 2
}
