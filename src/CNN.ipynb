{
 "cells": [
  {
   "cell_type": "markdown",
   "metadata": {},
   "source": [
    "# **Imports**\n"
   ]
  },
  {
   "cell_type": "code",
   "execution_count": 1,
   "metadata": {},
   "outputs": [],
   "source": [
    "# Custom libraries\n",
    "from tools.DataLoader import DataLoader\n",
    "from tools.EDA import EDA\n",
    "from tools.CNNPreprocessor import CNNPreprocessor\n",
    "from tools.CNNTrainer import CNNTrainer\n",
    "from tools.CNNEvaluator import CNNEvaluator\n",
    "\n",
    "\n",
    "# Custom PyTorch models\n",
    "from models.PyTorchCNNClassifier import PyTorchCNNClassifier"
   ]
  },
  {
   "cell_type": "code",
   "execution_count": 2,
   "metadata": {},
   "outputs": [
    {
     "name": "stdout",
     "output_type": "stream",
     "text": [
      "True\n",
      "11.8\n"
     ]
    }
   ],
   "source": [
    "import torch\n",
    "\n",
    "print(torch.cuda.is_available())\n",
    "print(torch.version.cuda)"
   ]
  },
  {
   "cell_type": "markdown",
   "metadata": {},
   "source": [
    "# **Data Load**\n"
   ]
  },
  {
   "cell_type": "code",
   "execution_count": 3,
   "metadata": {},
   "outputs": [],
   "source": [
    "# Step 1: Load Data using DataLoader\n",
    "train_loader = DataLoader(dataset_type=\"train\", path=\"./db/seg_train\")\n",
    "train_dataset = train_loader.load_data()\n",
    "\n",
    "# Initialize the data loader for a test dataset\n",
    "test_loader = DataLoader(dataset_type=\"test\", path=\"./db/seg_test\")\n",
    "test_dataset = test_loader.load_data()\n",
    "\n",
    "# Initialize the data loader for a val dataset\n",
    "val_loader = DataLoader(dataset_type=\"val\", path=\"./db/seg_pred\")\n",
    "val_dataset = val_loader.load_unlabeled_data()"
   ]
  },
  {
   "cell_type": "code",
   "execution_count": 4,
   "metadata": {},
   "outputs": [
    {
     "name": "stdout",
     "output_type": "stream",
     "text": [
      "Train dataset type: <class 'torchvision.datasets.folder.ImageFolder'>\n",
      "Test dataset type: <class 'torchvision.datasets.folder.ImageFolder'>\n",
      "Val dataset type: <class 'list'>\n"
     ]
    }
   ],
   "source": [
    "print(f\"Train dataset type: {type(train_dataset)}\")\n",
    "print(f\"Test dataset type: {type(test_dataset)}\")\n",
    "print(f\"Val dataset type: {type(val_dataset)}\")"
   ]
  },
  {
   "cell_type": "markdown",
   "metadata": {},
   "source": [
    "# **EDA**\n"
   ]
  },
  {
   "cell_type": "code",
   "execution_count": 5,
   "metadata": {},
   "outputs": [],
   "source": [
    "eda = EDA(train_dataset, train_dataset.classes)"
   ]
  },
  {
   "cell_type": "code",
   "execution_count": 6,
   "metadata": {},
   "outputs": [],
   "source": [
    "# eda.show_sample_images(num_images=6)"
   ]
  },
  {
   "cell_type": "code",
   "execution_count": 7,
   "metadata": {},
   "outputs": [],
   "source": [
    "# eda.show_images_from_each_class()"
   ]
  },
  {
   "cell_type": "code",
   "execution_count": 8,
   "metadata": {},
   "outputs": [],
   "source": [
    "# eda.plot_class_distribution()"
   ]
  },
  {
   "cell_type": "code",
   "execution_count": 9,
   "metadata": {},
   "outputs": [],
   "source": [
    "# eda.show_image_shape()"
   ]
  },
  {
   "cell_type": "markdown",
   "metadata": {},
   "source": [
    "# **Preprocessing**\n"
   ]
  },
  {
   "cell_type": "code",
   "execution_count": 10,
   "metadata": {},
   "outputs": [],
   "source": [
    "preprocessor = CNNPreprocessor()"
   ]
  },
  {
   "cell_type": "code",
   "execution_count": 11,
   "metadata": {},
   "outputs": [
    {
     "name": "stdout",
     "output_type": "stream",
     "text": [
      "Available transformations and their parameters:\n",
      "+----------------------+----------------------------------------------------------------------+--------------------------------------------------------------------+\n",
      "| Transformation       | Description                                                          | Parameters                                                         |\n",
      "+======================+======================================================================+====================================================================+\n",
      "| RandomResizedCrop    | Randomly crops a part of the image and resizes it to the given size. | size: (int): Target size of the crop.                              |\n",
      "+----------------------+----------------------------------------------------------------------+--------------------------------------------------------------------+\n",
      "| RandomHorizontalFlip | Randomly flips the image horizontally with a given probability.      | p: (float): Probability of flipping the image. Default: 0.5        |\n",
      "+----------------------+----------------------------------------------------------------------+--------------------------------------------------------------------+\n",
      "| Resize               | Resizes the image to the given size.                                 | size: (int or tuple): Target size of the image.                    |\n",
      "+----------------------+----------------------------------------------------------------------+--------------------------------------------------------------------+\n",
      "| CenterCrop           | Crops the center part of the image to the given size.                | size: (int or tuple): Target size of the crop.                     |\n",
      "+----------------------+----------------------------------------------------------------------+--------------------------------------------------------------------+\n",
      "| Normalize            | Normalizes the image with given mean and standard deviation.         | mean: (sequence): Sequence of means for each channel.              |\n",
      "|                      |                                                                      | std: (sequence): Sequence of standard deviations for each channel. |\n",
      "+----------------------+----------------------------------------------------------------------+--------------------------------------------------------------------+\n",
      "| ToTensor             | Converts a PIL Image or NumPy ndarray to a tensor.                   | None: None                                                         |\n",
      "+----------------------+----------------------------------------------------------------------+--------------------------------------------------------------------+\n"
     ]
    }
   ],
   "source": [
    "preprocessor.help()"
   ]
  },
  {
   "cell_type": "code",
   "execution_count": 12,
   "metadata": {},
   "outputs": [],
   "source": [
    "# Задаем настройки трансформаций для тренировочного, валидационного и тестового наборов данных\n",
    "preprocessor.set_transform_settings(\n",
    "    train_transform_settings={\n",
    "        \"RandomResizedCrop\": {\"enabled\": True, \"size\": 224},\n",
    "        \"RandomHorizontalFlip\": {\"enabled\": True, \"p\": 0.5},\n",
    "        \"ToTensor\": {\"enabled\": True},\n",
    "        \"Normalize\": {\n",
    "            \"enabled\": True,\n",
    "            \"mean\": [0.485, 0.456, 0.406],\n",
    "            \"std\": [0.229, 0.224, 0.225],\n",
    "        },\n",
    "    },\n",
    "    test_transform_settings={\n",
    "        \"Resize\": {\"enabled\": True, \"size\": 256},\n",
    "        \"CenterCrop\": {\"enabled\": True, \"size\": 224},\n",
    "        \"ToTensor\": {\"enabled\": True},\n",
    "        \"Normalize\": {\n",
    "            \"enabled\": True,\n",
    "            \"mean\": [0.485, 0.456, 0.406],\n",
    "            \"std\": [0.229, 0.224, 0.225],\n",
    "        },\n",
    "    },\n",
    "    val_transform_settings={\n",
    "        \"Normalize\": {\n",
    "            \"enabled\": True,\n",
    "            \"mean\": [0.485, 0.456, 0.406],\n",
    "            \"std\": [0.229, 0.224, 0.225],\n",
    "        },\n",
    "    },\n",
    ")"
   ]
  },
  {
   "cell_type": "code",
   "execution_count": 13,
   "metadata": {},
   "outputs": [
    {
     "name": "stdout",
     "output_type": "stream",
     "text": [
      "Image type train: <class 'torch.Tensor'>\n",
      "Image type test: <class 'torch.Tensor'>\n",
      "Image type val: <class 'torch.Tensor'>\n"
     ]
    }
   ],
   "source": [
    "# Проверим первое изображение из набора данных\n",
    "img_train, label_img_train = train_dataset[0]\n",
    "img_test, label_test = test_dataset[0]\n",
    "img_val = val_dataset[0]\n",
    "\n",
    "print(f\"Image type train: {type(img_train)}\")\n",
    "print(f\"Image type test: {type(img_test)}\")\n",
    "print(f\"Image type val: {type(img_val)}\")"
   ]
  },
  {
   "cell_type": "code",
   "execution_count": 14,
   "metadata": {},
   "outputs": [],
   "source": [
    "# Применение трансформаций к тренировочному датасету\n",
    "transformed_train_dataset = preprocessor.transform_dataset(\n",
    "    train_dataset, dataset_type=\"train\"\n",
    ")\n",
    "\n",
    "# Применение трансформаций к тестовому датасету\n",
    "transformed_test_dataset = preprocessor.transform_dataset(\n",
    "    test_dataset, dataset_type=\"test\"\n",
    ")"
   ]
  },
  {
   "cell_type": "code",
   "execution_count": 15,
   "metadata": {},
   "outputs": [
    {
     "name": "stdout",
     "output_type": "stream",
     "text": [
      "Train dataset type: <class 'torchvision.datasets.folder.ImageFolder'>\n",
      "Test dataset type: <class 'torchvision.datasets.folder.ImageFolder'>\n"
     ]
    }
   ],
   "source": [
    "print(f\"Train dataset type: {type(transformed_train_dataset)}\")\n",
    "print(f\"Test dataset type: {type(transformed_test_dataset)}\")"
   ]
  },
  {
   "cell_type": "code",
   "execution_count": 16,
   "metadata": {},
   "outputs": [],
   "source": [
    "# Применение трансформаций к валидационному датасету\n",
    "transformed_val_dataset = preprocessor.transform_unlabeled_data(val_dataset)"
   ]
  },
  {
   "cell_type": "code",
   "execution_count": 17,
   "metadata": {},
   "outputs": [
    {
     "name": "stdout",
     "output_type": "stream",
     "text": [
      "Val dataset type: <class 'list'>\n"
     ]
    }
   ],
   "source": [
    "print(f\"Val dataset type: {type(transformed_val_dataset)}\")"
   ]
  },
  {
   "cell_type": "code",
   "execution_count": 18,
   "metadata": {},
   "outputs": [
    {
     "name": "stdout",
     "output_type": "stream",
     "text": [
      "Image type train: <class 'torch.Tensor'>\n",
      "Image type test: <class 'torch.Tensor'>\n",
      "Image type val: <class 'torch.Tensor'>\n"
     ]
    }
   ],
   "source": [
    "# Проверим первое изображение из набора данных\n",
    "img_train, label_img_train = transformed_train_dataset[0]\n",
    "img_test, label_test = transformed_test_dataset[0]\n",
    "img_val = transformed_val_dataset[0]\n",
    "\n",
    "print(f\"Image type train: {type(img_train)}\")\n",
    "print(f\"Image type test: {type(img_test)}\")\n",
    "print(f\"Image type val: {type(img_val)}\")"
   ]
  },
  {
   "cell_type": "code",
   "execution_count": 19,
   "metadata": {},
   "outputs": [
    {
     "name": "stdout",
     "output_type": "stream",
     "text": [
      "Number of classes: 6\n"
     ]
    }
   ],
   "source": [
    "num_classes = len(train_dataset.classes)\n",
    "print(f\"Number of classes: {num_classes}\")"
   ]
  },
  {
   "cell_type": "code",
   "execution_count": 20,
   "metadata": {},
   "outputs": [],
   "source": [
    "model = PyTorchCNNClassifier(\n",
    "    input_channels=3, num_classes=num_classes, random_state=42, epochs_logger=True\n",
    ")"
   ]
  },
  {
   "cell_type": "code",
   "execution_count": 21,
   "metadata": {},
   "outputs": [],
   "source": [
    "# param_grid = {\n",
    "#     \"conv_layers\": [\n",
    "#         [(32, 3, 1, 1), (64, 3, 1, 1), (128, 3, 1, 1)]\n",
    "#     ],  # out_channels, kernel_size, stride, padding\n",
    "#     \"hidden_sizes\": [[256, 128]],  # Fully connected layers\n",
    "#     \"lr\": [0.001, 0.01],  # Learning rate\n",
    "#     \"batch_size\": [16, 32],  # Batch size\n",
    "#     \"epochs\": [10, 20],  # Number of epochs\n",
    "#     \"dropout_rate\": [0.1, 0.3],  # Dropout rate for fully connected layers\n",
    "#     \"optimizer_type\": [\"sgd\", \"adam\"],  # Optimizer type\n",
    "#     \"activation_fn\": [\"ReLU\", \"Sigmoid\"],  # Activation function choices as strings\n",
    "#     \"pool_fn\": [\"MaxPool2d\", \"AvgPool2d\"],  # Pooling function choices as strings\n",
    "#     \"pool_kernel_size\": [2, 3],  # Pooling kernel size\n",
    "#     \"pool_stride\": [2, 1],  # Pooling stride\n",
    "#     \"pool_padding\": [0, 1],  # Pooling padding\n",
    "# }\n",
    "\n",
    "param_grid = {\n",
    "    \"conv_layers\": [[(32, 3, 1, 1), (64, 3, 1, 1), (128, 3, 1, 1)]],\n",
    "    \"hidden_sizes\": [[256, 128]],\n",
    "    \"lr\": [0.001],\n",
    "    \"batch_size\": [16],\n",
    "    \"epochs\": [10],\n",
    "    \"dropout_rate\": [0.1],\n",
    "    \"optimizer_type\": [\"adam\"],\n",
    "    \"activation_fn\": [\"ReLU\"],\n",
    "    \"pool_fn\": [\"MaxPool2d\"],\n",
    "    \"pool_kernel_size\": [2],\n",
    "    \"pool_stride\": [2],\n",
    "    \"pool_padding\": [0],\n",
    "}"
   ]
  },
  {
   "cell_type": "code",
   "execution_count": 22,
   "metadata": {},
   "outputs": [],
   "source": [
    "models = {\"cnn_model\": model}\n",
    "param_grids = {\"cnn_model\": param_grid}"
   ]
  },
  {
   "cell_type": "markdown",
   "metadata": {},
   "source": [
    "# **Model Training**\n"
   ]
  },
  {
   "cell_type": "code",
   "execution_count": 23,
   "metadata": {},
   "outputs": [],
   "source": [
    "model_trainer = CNNTrainer(device=\"cuda\")"
   ]
  },
  {
   "cell_type": "code",
   "execution_count": 24,
   "metadata": {},
   "outputs": [
    {
     "name": "stdout",
     "output_type": "stream",
     "text": [
      "=== CNNTrainer Help ===\n",
      "This trainer is designed to support classification tasks using PyTorch CNN models.\n",
      "\n",
      "Usage:\n",
      "1. Initialize the CNNTrainer with the device ('cpu' or 'cuda').\n",
      "   Example:\n",
      "       trainer = CNNTrainer(device='cuda')\n",
      "\n",
      "2. Create model objects and define the parameter grid for hyperparameter tuning.\n",
      "   Example:\n",
      "       param_grid = { \"lr\": [0.001, 0.01], \"epochs\": [10, 20] }\n",
      "\n",
      "3. Call the `train` method with the training and test datasets, models, and parameter grid.\n",
      "   Example:\n",
      "       trainer.train(train_dataset, test_dataset, models={'cnn_model': model}, param_grids={'cnn_model': param_grid})\n"
     ]
    }
   ],
   "source": [
    "model_trainer.help()"
   ]
  },
  {
   "cell_type": "code",
   "execution_count": 25,
   "metadata": {},
   "outputs": [
    {
     "name": "stdout",
     "output_type": "stream",
     "text": [
      "Training on device: cuda\n"
     ]
    },
    {
     "name": "stderr",
     "output_type": "stream",
     "text": [
      "Total Training Progress:   0%|          | 0/10 [00:00<?, ?it/s]"
     ]
    },
    {
     "name": "stdout",
     "output_type": "stream",
     "text": [
      "\n",
      "Training cnn_model with parameters: {'activation_fn': 'ReLU', 'batch_size': 16, 'conv_layers': [(32, 3, 1, 1), (64, 3, 1, 1), (128, 3, 1, 1)], 'dropout_rate': 0.1, 'epochs': 10, 'hidden_sizes': [256, 128], 'lr': 0.001, 'optimizer_type': 'adam', 'pool_fn': 'MaxPool2d', 'pool_kernel_size': 2, 'pool_padding': 0, 'pool_stride': 2}\n",
      "Training with parameters: {'activation_fn': 'ReLU', 'batch_size': 16, 'conv_layers': [(32, 3, 1, 1), (64, 3, 1, 1), (128, 3, 1, 1)], 'dropout_rate': 0.1, 'epochs': 10, 'hidden_sizes': [256, 128], 'lr': 0.001, 'optimizer_type': 'adam', 'pool_fn': 'MaxPool2d', 'pool_kernel_size': 2, 'pool_padding': 0, 'pool_stride': 2}\n",
      "\n",
      "Epoch 1/10\n"
     ]
    },
    {
     "name": "stderr",
     "output_type": "stream",
     "text": [
      "Total Training Progress:  10%|█         | 1/10 [01:07<10:06, 67.44s/it]"
     ]
    },
    {
     "name": "stdout",
     "output_type": "stream",
     "text": [
      "Training Loss: 1.1579618734352137, Training Accuracy: 0.5445347014393616\n",
      "Validation Loss: 1.0371821105400933, Validation Accuracy: 0.6346666666666667\n",
      "\n",
      "Epoch 2/10\n"
     ]
    },
    {
     "name": "stderr",
     "output_type": "stream",
     "text": [
      "Total Training Progress:  20%|██        | 2/10 [02:21<09:32, 71.53s/it]"
     ]
    },
    {
     "name": "stdout",
     "output_type": "stream",
     "text": [
      "Training Loss: 0.8656299322300457, Training Accuracy: 0.6764999287444777\n",
      "Validation Loss: 0.5691370249706063, Validation Accuracy: 0.799\n",
      "\n",
      "Epoch 3/10\n"
     ]
    },
    {
     "name": "stderr",
     "output_type": "stream",
     "text": [
      "Total Training Progress:  30%|███       | 3/10 [03:36<08:30, 72.90s/it]"
     ]
    },
    {
     "name": "stdout",
     "output_type": "stream",
     "text": [
      "Training Loss: 0.7782418539488777, Training Accuracy: 0.715334188399601\n",
      "Validation Loss: 0.5117149674135478, Validation Accuracy: 0.8243333333333334\n",
      "\n",
      "Epoch 4/10\n"
     ]
    },
    {
     "name": "stderr",
     "output_type": "stream",
     "text": [
      "Total Training Progress:  40%|████      | 4/10 [04:53<07:27, 74.59s/it]"
     ]
    },
    {
     "name": "stdout",
     "output_type": "stream",
     "text": [
      "Training Loss: 0.7140421110941501, Training Accuracy: 0.7324355137523159\n",
      "Validation Loss: 0.4969941140028668, Validation Accuracy: 0.826\n",
      "\n",
      "Epoch 5/10\n"
     ]
    },
    {
     "name": "stderr",
     "output_type": "stream",
     "text": [
      "Total Training Progress:  50%|█████     | 5/10 [06:12<06:20, 76.14s/it]"
     ]
    },
    {
     "name": "stdout",
     "output_type": "stream",
     "text": [
      "Training Loss: 0.6845297638776634, Training Accuracy: 0.7464015961236996\n",
      "Validation Loss: 0.4784187919935806, Validation Accuracy: 0.831\n",
      "\n",
      "Epoch 6/10\n"
     ]
    },
    {
     "name": "stderr",
     "output_type": "stream",
     "text": [
      "Total Training Progress:  60%|██████    | 6/10 [07:31<05:08, 77.12s/it]"
     ]
    },
    {
     "name": "stdout",
     "output_type": "stream",
     "text": [
      "Training Loss: 0.6582308975907556, Training Accuracy: 0.7553797919338748\n",
      "Validation Loss: 0.4716279809462263, Validation Accuracy: 0.8373333333333334\n",
      "\n",
      "Epoch 7/10\n"
     ]
    },
    {
     "name": "stderr",
     "output_type": "stream",
     "text": [
      "Total Training Progress:  70%|███████   | 7/10 [08:48<03:51, 77.08s/it]"
     ]
    },
    {
     "name": "stdout",
     "output_type": "stream",
     "text": [
      "Training Loss: 0.6382703696099664, Training Accuracy: 0.7672082086361693\n",
      "Validation Loss: 0.4419740852265138, Validation Accuracy: 0.8473333333333334\n",
      "\n",
      "Epoch 8/10\n"
     ]
    },
    {
     "name": "stderr",
     "output_type": "stream",
     "text": [
      "Total Training Progress:  80%|████████  | 8/10 [10:05<02:34, 77.16s/it]"
     ]
    },
    {
     "name": "stdout",
     "output_type": "stream",
     "text": [
      "Training Loss: 0.6198234276290228, Training Accuracy: 0.768348296993017\n",
      "Validation Loss: 0.45677969353988723, Validation Accuracy: 0.8486666666666667\n",
      "\n",
      "Epoch 9/10\n"
     ]
    },
    {
     "name": "stderr",
     "output_type": "stream",
     "text": [
      "Total Training Progress:  90%|█████████ | 9/10 [11:21<01:16, 76.60s/it]"
     ]
    },
    {
     "name": "stdout",
     "output_type": "stream",
     "text": [
      "Training Loss: 0.6083877176589466, Training Accuracy: 0.7794641584722816\n",
      "Validation Loss: 0.47154266808300893, Validation Accuracy: 0.8353333333333334\n",
      "\n",
      "Epoch 10/10\n"
     ]
    },
    {
     "name": "stderr",
     "output_type": "stream",
     "text": [
      "Total Training Progress: 100%|██████████| 10/10 [12:37<00:00, 76.39s/it]"
     ]
    },
    {
     "name": "stdout",
     "output_type": "stream",
     "text": [
      "Training Loss: 0.5967399163769902, Training Accuracy: 0.7831694456320365\n"
     ]
    },
    {
     "name": "stderr",
     "output_type": "stream",
     "text": [
      "Total Training Progress: 100%|██████████| 10/10 [12:45<00:00, 76.52s/it]"
     ]
    },
    {
     "name": "stdout",
     "output_type": "stream",
     "text": [
      "Validation Loss: 0.42473152947415194, Validation Accuracy: 0.8553333333333333\n",
      "Validation Accuracy for cnn_model: 0.7831694456320365\n",
      "\n",
      "Best Model: cnn_model with score: 0.7831694456320365\n"
     ]
    },
    {
     "name": "stderr",
     "output_type": "stream",
     "text": [
      "\n"
     ]
    }
   ],
   "source": [
    "model_trainer.train(\n",
    "    train_dataset=transformed_train_dataset,\n",
    "    test_dataset=transformed_test_dataset,\n",
    "    models=models,\n",
    "    param_grids=param_grids,\n",
    "    scoring=\"accuracy\",\n",
    "    verbose=1,\n",
    "    use_progress_bar=True,\n",
    ")"
   ]
  },
  {
   "cell_type": "code",
   "execution_count": 26,
   "metadata": {},
   "outputs": [],
   "source": [
    "best_models = model_trainer.best_estimators\n",
    "best_params = model_trainer.best_params\n",
    "best_scores = model_trainer.best_scores\n",
    "best_model_name = model_trainer.best_model_name"
   ]
  },
  {
   "cell_type": "code",
   "execution_count": 27,
   "metadata": {},
   "outputs": [
    {
     "name": "stdout",
     "output_type": "stream",
     "text": [
      "{'cnn_model': <models.PyTorchCNNClassifier.PyTorchCNNClassifier object at 0x000002433A8064B0>}\n",
      "{'cnn_model': {'activation_fn': 'ReLU', 'batch_size': 16, 'conv_layers': [(32, 3, 1, 1), (64, 3, 1, 1), (128, 3, 1, 1)], 'dropout_rate': 0.1, 'epochs': 10, 'hidden_sizes': [256, 128], 'lr': 0.001, 'optimizer_type': 'adam', 'pool_fn': 'MaxPool2d', 'pool_kernel_size': 2, 'pool_padding': 0, 'pool_stride': 2}}\n",
      "{'cnn_model': 0.7831694456320365}\n",
      "cnn_model\n"
     ]
    }
   ],
   "source": [
    "print(best_models)\n",
    "print(best_params)\n",
    "print(best_scores)\n",
    "print(best_model_name)"
   ]
  },
  {
   "cell_type": "markdown",
   "metadata": {},
   "source": [
    "# **Model Evaluator**\n"
   ]
  },
  {
   "cell_type": "code",
   "execution_count": 28,
   "metadata": {},
   "outputs": [],
   "source": [
    "evaluator = CNNEvaluator()"
   ]
  },
  {
   "cell_type": "code",
   "execution_count": 29,
   "metadata": {},
   "outputs": [
    {
     "name": "stdout",
     "output_type": "stream",
     "text": [
      "Visualizing the architecture of the model: cnn_model\n",
      "=================================================================\n",
      "Layer (type:depth-idx)                   Param #\n",
      "=================================================================\n",
      "├─Conv2d: 1-1                            896\n",
      "├─ReLU: 1-2                              --\n",
      "├─MaxPool2d: 1-3                         --\n",
      "├─Conv2d: 1-4                            18,496\n",
      "├─ReLU: 1-5                              --\n",
      "├─MaxPool2d: 1-6                         --\n",
      "├─Conv2d: 1-7                            73,856\n",
      "├─ReLU: 1-8                              --\n",
      "├─MaxPool2d: 1-9                         --\n",
      "├─Flatten: 1-10                          --\n",
      "├─Linear: 1-11                           25,690,368\n",
      "├─ReLU: 1-12                             --\n",
      "├─Dropout: 1-13                          --\n",
      "├─Linear: 1-14                           32,896\n",
      "├─ReLU: 1-15                             --\n",
      "├─Dropout: 1-16                          --\n",
      "├─Linear: 1-17                           774\n",
      "=================================================================\n",
      "Total params: 25,817,286\n",
      "Trainable params: 25,817,286\n",
      "Non-trainable params: 0\n",
      "=================================================================\n"
     ]
    }
   ],
   "source": [
    "evaluator.visualize_pipeline(model_name=best_model_name, best_models=best_models)"
   ]
  },
  {
   "cell_type": "code",
   "execution_count": 30,
   "metadata": {},
   "outputs": [
    {
     "name": "stdout",
     "output_type": "stream",
     "text": [
      "Validation Loss: 0.42473152947415194, Validation Accuracy: 0.8553333333333333\n",
      "Evaluation Metrics for Test Set:\n"
     ]
    },
    {
     "data": {
      "text/html": [
       "<div>\n",
       "<style scoped>\n",
       "    .dataframe tbody tr th:only-of-type {\n",
       "        vertical-align: middle;\n",
       "    }\n",
       "\n",
       "    .dataframe tbody tr th {\n",
       "        vertical-align: top;\n",
       "    }\n",
       "\n",
       "    .dataframe thead th {\n",
       "        text-align: right;\n",
       "    }\n",
       "</style>\n",
       "<table border=\"1\" class=\"dataframe\">\n",
       "  <thead>\n",
       "    <tr style=\"text-align: right;\">\n",
       "      <th></th>\n",
       "      <th>Model</th>\n",
       "      <th>Accuracy</th>\n",
       "      <th>Balanced Accuracy</th>\n",
       "      <th>F1 Score</th>\n",
       "      <th>Precision</th>\n",
       "      <th>Recall</th>\n",
       "    </tr>\n",
       "  </thead>\n",
       "  <tbody>\n",
       "    <tr>\n",
       "      <th>0</th>\n",
       "      <td>cnn_model</td>\n",
       "      <td>0.855333</td>\n",
       "      <td>0.85493</td>\n",
       "      <td>0.854461</td>\n",
       "      <td>0.856631</td>\n",
       "      <td>0.855333</td>\n",
       "    </tr>\n",
       "  </tbody>\n",
       "</table>\n",
       "</div>"
      ],
      "text/plain": [
       "       Model  Accuracy  Balanced Accuracy  F1 Score  Precision    Recall\n",
       "0  cnn_model  0.855333            0.85493  0.854461   0.856631  0.855333"
      ]
     },
     "metadata": {},
     "output_type": "display_data"
    },
    {
     "name": "stdout",
     "output_type": "stream",
     "text": [
      "\n",
      "Best Parameters for Each Model (found during hyperparameter tuning):\n"
     ]
    },
    {
     "data": {
      "text/html": [
       "<div>\n",
       "<style scoped>\n",
       "    .dataframe tbody tr th:only-of-type {\n",
       "        vertical-align: middle;\n",
       "    }\n",
       "\n",
       "    .dataframe tbody tr th {\n",
       "        vertical-align: top;\n",
       "    }\n",
       "\n",
       "    .dataframe thead th {\n",
       "        text-align: right;\n",
       "    }\n",
       "</style>\n",
       "<table border=\"1\" class=\"dataframe\">\n",
       "  <thead>\n",
       "    <tr style=\"text-align: right;\">\n",
       "      <th></th>\n",
       "      <th>Model</th>\n",
       "      <th>activation_fn</th>\n",
       "      <th>batch_size</th>\n",
       "      <th>conv_layers</th>\n",
       "      <th>dropout_rate</th>\n",
       "      <th>epochs</th>\n",
       "      <th>hidden_sizes</th>\n",
       "      <th>lr</th>\n",
       "      <th>optimizer_type</th>\n",
       "      <th>pool_fn</th>\n",
       "      <th>pool_kernel_size</th>\n",
       "      <th>pool_padding</th>\n",
       "      <th>pool_stride</th>\n",
       "    </tr>\n",
       "  </thead>\n",
       "  <tbody>\n",
       "    <tr>\n",
       "      <th>0</th>\n",
       "      <td>cnn_model</td>\n",
       "      <td>ReLU</td>\n",
       "      <td>16</td>\n",
       "      <td>[(32, 3, 1, 1), (64, 3, 1, 1), (128, 3, 1, 1)]</td>\n",
       "      <td>0.1</td>\n",
       "      <td>10</td>\n",
       "      <td>[256, 128]</td>\n",
       "      <td>0.001</td>\n",
       "      <td>adam</td>\n",
       "      <td>MaxPool2d</td>\n",
       "      <td>2</td>\n",
       "      <td>0</td>\n",
       "      <td>2</td>\n",
       "    </tr>\n",
       "  </tbody>\n",
       "</table>\n",
       "</div>"
      ],
      "text/plain": [
       "       Model activation_fn batch_size  \\\n",
       "0  cnn_model          ReLU         16   \n",
       "\n",
       "                                      conv_layers dropout_rate epochs  \\\n",
       "0  [(32, 3, 1, 1), (64, 3, 1, 1), (128, 3, 1, 1)]          0.1     10   \n",
       "\n",
       "  hidden_sizes     lr optimizer_type    pool_fn pool_kernel_size pool_padding  \\\n",
       "0   [256, 128]  0.001           adam  MaxPool2d                2            0   \n",
       "\n",
       "  pool_stride  \n",
       "0           2  "
      ]
     },
     "metadata": {},
     "output_type": "display_data"
    },
    {
     "name": "stdout",
     "output_type": "stream",
     "text": [
      "\n",
      "Overall Best Model and Score (based on cross-validation score):\n"
     ]
    },
    {
     "data": {
      "text/html": [
       "<div>\n",
       "<style scoped>\n",
       "    .dataframe tbody tr th:only-of-type {\n",
       "        vertical-align: middle;\n",
       "    }\n",
       "\n",
       "    .dataframe tbody tr th {\n",
       "        vertical-align: top;\n",
       "    }\n",
       "\n",
       "    .dataframe thead th {\n",
       "        text-align: right;\n",
       "    }\n",
       "</style>\n",
       "<table border=\"1\" class=\"dataframe\">\n",
       "  <thead>\n",
       "    <tr style=\"text-align: right;\">\n",
       "      <th></th>\n",
       "      <th>Overall Best Model</th>\n",
       "      <th>Score (based on cross-validation score)</th>\n",
       "    </tr>\n",
       "  </thead>\n",
       "  <tbody>\n",
       "    <tr>\n",
       "      <th>0</th>\n",
       "      <td>cnn_model</td>\n",
       "      <td>0.783169</td>\n",
       "    </tr>\n",
       "  </tbody>\n",
       "</table>\n",
       "</div>"
      ],
      "text/plain": [
       "  Overall Best Model  Score (based on cross-validation score)\n",
       "0          cnn_model                                 0.783169"
      ]
     },
     "metadata": {},
     "output_type": "display_data"
    },
    {
     "name": "stdout",
     "output_type": "stream",
     "text": [
      "\n",
      "Metric Explanations for Classification:\n",
      "Accuracy: The ratio of correctly predicted instances to the total instances.\n",
      "Balanced Accuracy: The average of recall obtained on each class.\n",
      "F1 Score: Harmonic mean of precision and recall.\n",
      "Precision: Ratio of correctly predicted positive observations to all positive predictions.\n",
      "Recall: Ratio of correctly predicted positive observations to all actual positives.\n"
     ]
    }
   ],
   "source": [
    "evaluator.display_results(\n",
    "    test_dataset=transformed_test_dataset,\n",
    "    best_models=best_models,\n",
    "    best_params=best_params,\n",
    "    best_scores=best_scores,\n",
    "    best_model_name=best_model_name,\n",
    "    help_text=True,\n",
    ")"
   ]
  },
  {
   "cell_type": "code",
   "execution_count": 31,
   "metadata": {},
   "outputs": [
    {
     "data": {
      "image/png": "[encoded data removed]",
      "text/plain": [
       "<Figure size 640x480 with 1 Axes>"
      ]
     },
     "metadata": {},
     "output_type": "display_data"
    }
   ],
   "source": [
    "evaluator.plot_loss_history(best_models, best_model_name)"
   ]
  },
  {
   "cell_type": "code",
   "execution_count": 33,
   "metadata": {},
   "outputs": [],
   "source": [
    "# evaluator.predict_on_val(\n",
    "#     val_dataset=transformed_val_dataset,\n",
    "#     best_models=best_models,\n",
    "#     best_model_name=best_model_name,\n",
    "# )"
   ]
  },
  {
   "cell_type": "markdown",
   "metadata": {},
   "source": [
    "# **Key Conclusions and Recommendations for Improvement**\n"
   ]
  },
  {
   "cell_type": "markdown",
   "metadata": {},
   "source": [
    "# **Key Conclusions:**\n",
    "\n",
    "**High Model Accuracy:** The model achieved R² = 0.8808, meaning it explains 88.08% of the variance in the target variable, indicating strong predictive performance.\n",
    "\n",
    "**Low Error:** Metrics MAE = 4.36, MAPE = 14.21%, and MSE = 30.73 (the primary metric used during training) indicate a relatively low average error, with predictions deviating by about 14% from actual values.\n",
    "\n",
    "**Optimal Hyperparameters:** I tested architectures with both 3 layers [256, 128, 64] and 5 layers [256, 128, 64, 32, 16], with the 3-layer configuration performing better. Various hyperparameters were explored, including batch sizes (16, 32), learning rates (0.01, 0.001), dropout rates (0.1, 0.2, 0.3), and both the Adam and SGD optimizers, with SGD yielding the best results.\n",
    "\n",
    "# **Model Architecture:**\n",
    "\n",
    "**Hidden Layers:** The architecture consists of fully connected layers. The best-performing model used 3 hidden layers with 256, 128, and 64 neurons, alternating between ReLU and Tanh activations.\n",
    "\n",
    "**Regularization:** Dropout layers with varying rates (0.1, 0.2, 0.3) were included after each hidden layer to prevent overfitting, with a 0.1 dropout rate proving optimal. This acts as a form of early stopping by reducing overfitting as the model trains.\n",
    "Optimizer and Loss Function: The SGD optimizer combined with the mean squared error (MSE) loss function was used for training.\n",
    "\n",
    "# **Recommendations:**\n",
    "\n",
    "**Explore Deeper Architectures:** Although the 3-layer model performed better, further tuning of deeper architectures (5+ layers) with additional regularization techniques could be beneficial.\n",
    "\n",
    "**Refine Dropout and Learning Rate:** Fine-tuning the dropout rates and using learning rate schedules could improve convergence and prevent overfitting. Dropout, already implemented in the model, acts as an early stopping mechanism by preventing overfitting during training.\n",
    "Early Stopping and Optimization: Besides dropout, consider experimenting with more advanced early stopping strategies, combined with fine-tuning the learning rates for further optimization.\n"
   ]
  }
 ],
 "metadata": {
  "kernelspec": {
   "display_name": "Python 3",
   "language": "python",
   "name": "python3"
  },
  "language_info": {
   "codemirror_mode": {
    "name": "ipython",
    "version": 3
   },
   "file_extension": ".py",
   "mimetype": "text/x-python",
   "name": "python",
   "nbconvert_exporter": "python",
   "pygments_lexer": "ipython3",
   "version": "3.12.3"
  }
 },
 "nbformat": 4,
 "nbformat_minor": 2
}
